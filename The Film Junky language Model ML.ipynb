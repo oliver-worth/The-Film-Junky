{
 "cells": [
  {
   "cell_type": "markdown",
   "id": "233f7d42",
   "metadata": {},
   "source": [
    "# Introduction\n",
    "In this project, we aimed to develop a system for filtering and categorizing movie reviews by training a model to automatically detect negative reviews. The dataset used for this project consists of IMDB movie reviews with polarity labeling, indicating whether a review is positive or negative. Our goal was to preprocess the data, conduct exploratory data analysis (EDA), and train multiple models to classify the sentiment of the reviews, aiming to achieve an F1 score of at least 0.85.\n",
    "\n",
    "The project involved several key steps:\n",
    "\n",
    "Data Loading and Preprocessing: We loaded the dataset and cleaned the text data by removing special characters and lemmatizing the words. Irrelevant columns were removed to streamline the dataset.\n",
    "\n",
    "Exploratory Data Analysis (EDA): We analyzed the distribution of positive and negative reviews to check for class imbalance, concluding that the dataset was balanced.\n",
    "\n",
    "Feature Extraction: The text data was converted into numerical vectors using TF-IDF vectorization, preparing it for model training.\n",
    "\n",
    "Model Training and Evaluation: We trained and evaluated several models, including Logistic Regression, Random Forest, Gradient Boosting, XGBoost, CatBoost, and LightGBM. The models were assessed based on their F1 scores to determine their effectiveness in classifying the sentiment of the reviews.\n",
    "\n",
    "Sample Review Classification: To further validate our models, we composed a few sample reviews and classified them using the trained models, analyzing the consistency and reliability of the predictions.\n",
    "\n",
    "Through this comprehensive approach, we aimed to identify the most effective model for sentiment analysis of movie reviews, providing a robust solution for automatically detecting negative reviews."
   ]
  },
  {
   "cell_type": "code",
   "execution_count": 1,
   "id": "49bb8c7e",
   "metadata": {},
   "outputs": [],
   "source": [
    "import pandas as pd"
   ]
  },
  {
   "cell_type": "code",
   "execution_count": 2,
   "id": "ad927d69",
   "metadata": {},
   "outputs": [],
   "source": [
    "\n",
    "import pandas as pd\n",
    "import numpy as np\n",
    "import re\n",
    "from sklearn.model_selection import train_test_split\n",
    "from nltk.corpus import stopwords\n",
    "from nltk.tokenize import word_tokenize\n",
    "from nltk.stem import WordNetLemmatizer\n",
    "from sklearn.feature_extraction.text import TfidfVectorizer\n",
    "from sklearn.linear_model import LogisticRegression\n",
    "from sklearn.ensemble import RandomForestClassifier, GradientBoostingClassifier\n",
    "from sklearn.metrics import classification_report, f1_score\n",
    "import nltk\n",
    "\n",
    "\n"
   ]
  },
  {
   "cell_type": "code",
   "execution_count": 3,
   "id": "a0bc175d",
   "metadata": {},
   "outputs": [
    {
     "name": "stdout",
     "output_type": "stream",
     "text": [
      "File successfully read from imdb_reviews.tsv\n"
     ]
    }
   ],
   "source": [
    "import pandas as pd\n",
    "\n",
    "file_path = 'imdb_reviews.tsv'\n",
    "alternative_path = '/datasets/imdb_reviews.tsv'\n",
    "\n",
    "try:\n",
    "    df = pd.read_csv(file_path, sep='\\t')\n",
    "    print(f\"File successfully read from {file_path}\")\n",
    "except FileNotFoundError:\n",
    "    df = pd.read_csv(alternative_path, sep='\\t')\n",
    "    print(f\"File successfully read from {alternative_path}\")\n",
    "except Exception as e:\n",
    "    print(f\"An error occurred while trying to read the file: {e}\")\n"
   ]
  },
  {
   "cell_type": "markdown",
   "id": "d8800672",
   "metadata": {},
   "source": [
    "# Project Description\n",
    "\n",
    "The Film Junky Union, a new edgy commutity for classic movie enthusiasts, is developing a system for filtering and categorizing movie reviews. the goal is to train a model to automatically detect negative reviews. You will be using a dataset of IMBD movie reviews with polarity labellibg to build a model for clasifying positive and negative reviews. It will need to reach an F1 score of at least 0.85.\n",
    "\n"
   ]
  },
  {
   "cell_type": "code",
   "execution_count": 4,
   "id": "2eb91ed0",
   "metadata": {},
   "outputs": [
    {
     "name": "stdout",
     "output_type": "stream",
     "text": [
      "<class 'pandas.core.frame.DataFrame'>\n",
      "RangeIndex: 47331 entries, 0 to 47330\n",
      "Data columns (total 17 columns):\n",
      " #   Column           Non-Null Count  Dtype  \n",
      "---  ------           --------------  -----  \n",
      " 0   tconst           47331 non-null  object \n",
      " 1   title_type       47331 non-null  object \n",
      " 2   primary_title    47331 non-null  object \n",
      " 3   original_title   47331 non-null  object \n",
      " 4   start_year       47331 non-null  int64  \n",
      " 5   end_year         47331 non-null  object \n",
      " 6   runtime_minutes  47331 non-null  object \n",
      " 7   is_adult         47331 non-null  int64  \n",
      " 8   genres           47331 non-null  object \n",
      " 9   average_rating   47329 non-null  float64\n",
      " 10  votes            47329 non-null  float64\n",
      " 11  review           47331 non-null  object \n",
      " 12  rating           47331 non-null  int64  \n",
      " 13  sp               47331 non-null  object \n",
      " 14  pos              47331 non-null  int64  \n",
      " 15  ds_part          47331 non-null  object \n",
      " 16  idx              47331 non-null  int64  \n",
      "dtypes: float64(2), int64(5), object(10)\n",
      "memory usage: 6.1+ MB\n"
     ]
    }
   ],
   "source": [
    "df.info()"
   ]
  },
  {
   "cell_type": "code",
   "execution_count": 5,
   "id": "b57240a3",
   "metadata": {},
   "outputs": [
    {
     "data": {
      "text/html": [
       "<div>\n",
       "<style scoped>\n",
       "    .dataframe tbody tr th:only-of-type {\n",
       "        vertical-align: middle;\n",
       "    }\n",
       "\n",
       "    .dataframe tbody tr th {\n",
       "        vertical-align: top;\n",
       "    }\n",
       "\n",
       "    .dataframe thead th {\n",
       "        text-align: right;\n",
       "    }\n",
       "</style>\n",
       "<table border=\"1\" class=\"dataframe\">\n",
       "  <thead>\n",
       "    <tr style=\"text-align: right;\">\n",
       "      <th></th>\n",
       "      <th>tconst</th>\n",
       "      <th>title_type</th>\n",
       "      <th>primary_title</th>\n",
       "      <th>original_title</th>\n",
       "      <th>start_year</th>\n",
       "      <th>end_year</th>\n",
       "      <th>runtime_minutes</th>\n",
       "      <th>is_adult</th>\n",
       "      <th>genres</th>\n",
       "      <th>average_rating</th>\n",
       "      <th>votes</th>\n",
       "      <th>review</th>\n",
       "      <th>rating</th>\n",
       "      <th>sp</th>\n",
       "      <th>pos</th>\n",
       "      <th>ds_part</th>\n",
       "      <th>idx</th>\n",
       "    </tr>\n",
       "  </thead>\n",
       "  <tbody>\n",
       "    <tr>\n",
       "      <th>0</th>\n",
       "      <td>tt0068152</td>\n",
       "      <td>movie</td>\n",
       "      <td>$</td>\n",
       "      <td>$</td>\n",
       "      <td>1971</td>\n",
       "      <td>\\N</td>\n",
       "      <td>121</td>\n",
       "      <td>0</td>\n",
       "      <td>Comedy,Crime,Drama</td>\n",
       "      <td>6.3</td>\n",
       "      <td>2218.0</td>\n",
       "      <td>The pakage implies that Warren Beatty and Gold...</td>\n",
       "      <td>1</td>\n",
       "      <td>neg</td>\n",
       "      <td>0</td>\n",
       "      <td>train</td>\n",
       "      <td>8335</td>\n",
       "    </tr>\n",
       "    <tr>\n",
       "      <th>1</th>\n",
       "      <td>tt0068152</td>\n",
       "      <td>movie</td>\n",
       "      <td>$</td>\n",
       "      <td>$</td>\n",
       "      <td>1971</td>\n",
       "      <td>\\N</td>\n",
       "      <td>121</td>\n",
       "      <td>0</td>\n",
       "      <td>Comedy,Crime,Drama</td>\n",
       "      <td>6.3</td>\n",
       "      <td>2218.0</td>\n",
       "      <td>How the hell did they get this made?! Presenti...</td>\n",
       "      <td>1</td>\n",
       "      <td>neg</td>\n",
       "      <td>0</td>\n",
       "      <td>train</td>\n",
       "      <td>8336</td>\n",
       "    </tr>\n",
       "    <tr>\n",
       "      <th>2</th>\n",
       "      <td>tt0313150</td>\n",
       "      <td>short</td>\n",
       "      <td>'15'</td>\n",
       "      <td>'15'</td>\n",
       "      <td>2002</td>\n",
       "      <td>\\N</td>\n",
       "      <td>25</td>\n",
       "      <td>0</td>\n",
       "      <td>Comedy,Drama,Short</td>\n",
       "      <td>6.3</td>\n",
       "      <td>184.0</td>\n",
       "      <td>There is no real story the film seems more lik...</td>\n",
       "      <td>3</td>\n",
       "      <td>neg</td>\n",
       "      <td>0</td>\n",
       "      <td>test</td>\n",
       "      <td>2489</td>\n",
       "    </tr>\n",
       "    <tr>\n",
       "      <th>3</th>\n",
       "      <td>tt0313150</td>\n",
       "      <td>short</td>\n",
       "      <td>'15'</td>\n",
       "      <td>'15'</td>\n",
       "      <td>2002</td>\n",
       "      <td>\\N</td>\n",
       "      <td>25</td>\n",
       "      <td>0</td>\n",
       "      <td>Comedy,Drama,Short</td>\n",
       "      <td>6.3</td>\n",
       "      <td>184.0</td>\n",
       "      <td>Um .... a serious film about troubled teens in...</td>\n",
       "      <td>7</td>\n",
       "      <td>pos</td>\n",
       "      <td>1</td>\n",
       "      <td>test</td>\n",
       "      <td>9280</td>\n",
       "    </tr>\n",
       "    <tr>\n",
       "      <th>4</th>\n",
       "      <td>tt0313150</td>\n",
       "      <td>short</td>\n",
       "      <td>'15'</td>\n",
       "      <td>'15'</td>\n",
       "      <td>2002</td>\n",
       "      <td>\\N</td>\n",
       "      <td>25</td>\n",
       "      <td>0</td>\n",
       "      <td>Comedy,Drama,Short</td>\n",
       "      <td>6.3</td>\n",
       "      <td>184.0</td>\n",
       "      <td>I'm totally agree with GarryJohal from Singapo...</td>\n",
       "      <td>9</td>\n",
       "      <td>pos</td>\n",
       "      <td>1</td>\n",
       "      <td>test</td>\n",
       "      <td>9281</td>\n",
       "    </tr>\n",
       "  </tbody>\n",
       "</table>\n",
       "</div>"
      ],
      "text/plain": [
       "      tconst title_type primary_title original_title  start_year end_year  \\\n",
       "0  tt0068152      movie             $              $        1971       \\N   \n",
       "1  tt0068152      movie             $              $        1971       \\N   \n",
       "2  tt0313150      short          '15'           '15'        2002       \\N   \n",
       "3  tt0313150      short          '15'           '15'        2002       \\N   \n",
       "4  tt0313150      short          '15'           '15'        2002       \\N   \n",
       "\n",
       "  runtime_minutes  is_adult              genres  average_rating   votes  \\\n",
       "0             121         0  Comedy,Crime,Drama             6.3  2218.0   \n",
       "1             121         0  Comedy,Crime,Drama             6.3  2218.0   \n",
       "2              25         0  Comedy,Drama,Short             6.3   184.0   \n",
       "3              25         0  Comedy,Drama,Short             6.3   184.0   \n",
       "4              25         0  Comedy,Drama,Short             6.3   184.0   \n",
       "\n",
       "                                              review  rating   sp  pos  \\\n",
       "0  The pakage implies that Warren Beatty and Gold...       1  neg    0   \n",
       "1  How the hell did they get this made?! Presenti...       1  neg    0   \n",
       "2  There is no real story the film seems more lik...       3  neg    0   \n",
       "3  Um .... a serious film about troubled teens in...       7  pos    1   \n",
       "4  I'm totally agree with GarryJohal from Singapo...       9  pos    1   \n",
       "\n",
       "  ds_part   idx  \n",
       "0   train  8335  \n",
       "1   train  8336  \n",
       "2    test  2489  \n",
       "3    test  9280  \n",
       "4    test  9281  "
      ]
     },
     "execution_count": 5,
     "metadata": {},
     "output_type": "execute_result"
    }
   ],
   "source": [
    "df.head()"
   ]
  },
  {
   "cell_type": "code",
   "execution_count": 6,
   "id": "f4256548",
   "metadata": {},
   "outputs": [
    {
     "data": {
      "text/plain": [
       "0"
      ]
     },
     "execution_count": 6,
     "metadata": {},
     "output_type": "execute_result"
    }
   ],
   "source": [
    "df.duplicated().sum()"
   ]
  },
  {
   "cell_type": "markdown",
   "id": "57dc75b6",
   "metadata": {},
   "source": [
    "I've read in the dataset here, looked at duplicates and looked at the info for the dataframe. Looks like that there is a bunch of columns that are not needed."
   ]
  },
  {
   "cell_type": "markdown",
   "id": "3dd8a6c2",
   "metadata": {},
   "source": [
    "## Preprocessing the Data \n",
    "\n",
    "    - Clean the text data (removing special characters, converting to lowercase, etc)\n",
    "    - Lemmatize the text \n",
    "    "
   ]
  },
  {
   "cell_type": "code",
   "execution_count": 7,
   "id": "6c14f4f4",
   "metadata": {},
   "outputs": [],
   "source": [
    "import pandas as pd\n",
    "import re\n",
    "from nltk.tokenize import word_tokenize\n",
    "from nltk.stem import WordNetLemmatizer\n",
    "import nltk\n",
    "\n"
   ]
  },
  {
   "cell_type": "code",
   "execution_count": 8,
   "id": "24c65e71",
   "metadata": {},
   "outputs": [
    {
     "name": "stderr",
     "output_type": "stream",
     "text": [
      "[nltk_data] Downloading package punkt to\n",
      "[nltk_data]     C:\\Users\\oli_worth\\AppData\\Roaming\\nltk_data...\n",
      "[nltk_data]   Package punkt is already up-to-date!\n",
      "[nltk_data] Downloading package wordnet to\n",
      "[nltk_data]     C:\\Users\\oli_worth\\AppData\\Roaming\\nltk_data...\n",
      "[nltk_data]   Package wordnet is already up-to-date!\n"
     ]
    },
    {
     "data": {
      "text/plain": [
       "True"
      ]
     },
     "execution_count": 8,
     "metadata": {},
     "output_type": "execute_result"
    }
   ],
   "source": [
    "# Downloading necessary NLTK data\n",
    "nltk.download('punkt')\n",
    "nltk.download('wordnet')"
   ]
  },
  {
   "cell_type": "code",
   "execution_count": 9,
   "id": "4473c708",
   "metadata": {},
   "outputs": [],
   "source": [
    "# Initializing the lemmatizer \n",
    "lemmatizer = WordNetLemmatizer()"
   ]
  },
  {
   "cell_type": "code",
   "execution_count": 10,
   "id": "c6b7f0df",
   "metadata": {},
   "outputs": [],
   "source": [
    "def clean_text(text):\n",
    "    # Remove non-letter characters\n",
    "    text = re.sub(r\"[^a-zA-Z']\", \" \", text)\n",
    "    # Convert to lowercase and tokenize\n",
    "    tokens = word_tokenize(text.lower())\n",
    "    # Lemmatize tokens\n",
    "    lemmas = [lemmatizer.lemmatize(token) for token in tokens]\n",
    "    # Join tokens back to string\n",
    "    return ' '.join(lemmas)\n"
   ]
  },
  {
   "cell_type": "code",
   "execution_count": 11,
   "id": "545ef471",
   "metadata": {},
   "outputs": [],
   "source": [
    "df['cleaned_review'] = df['review'].apply(clean_text)"
   ]
  },
  {
   "cell_type": "code",
   "execution_count": null,
   "id": "2a0ca1a8",
   "metadata": {},
   "outputs": [
    {
     "data": {
      "text/html": [
       "<div>\n",
       "<style scoped>\n",
       "    .dataframe tbody tr th:only-of-type {\n",
       "        vertical-align: middle;\n",
       "    }\n",
       "\n",
       "    .dataframe tbody tr th {\n",
       "        vertical-align: top;\n",
       "    }\n",
       "\n",
       "    .dataframe thead th {\n",
       "        text-align: right;\n",
       "    }\n",
       "</style>\n",
       "<table border=\"1\" class=\"dataframe\">\n",
       "  <thead>\n",
       "    <tr style=\"text-align: right;\">\n",
       "      <th></th>\n",
       "      <th>tconst</th>\n",
       "      <th>title_type</th>\n",
       "      <th>primary_title</th>\n",
       "      <th>original_title</th>\n",
       "      <th>start_year</th>\n",
       "      <th>end_year</th>\n",
       "      <th>runtime_minutes</th>\n",
       "      <th>is_adult</th>\n",
       "      <th>genres</th>\n",
       "      <th>average_rating</th>\n",
       "      <th>votes</th>\n",
       "      <th>review</th>\n",
       "      <th>rating</th>\n",
       "      <th>sp</th>\n",
       "      <th>pos</th>\n",
       "      <th>ds_part</th>\n",
       "      <th>idx</th>\n",
       "      <th>cleaned_review</th>\n",
       "    </tr>\n",
       "  </thead>\n",
       "  <tbody>\n",
       "    <tr>\n",
       "      <th>0</th>\n",
       "      <td>tt0068152</td>\n",
       "      <td>movie</td>\n",
       "      <td>$</td>\n",
       "      <td>$</td>\n",
       "      <td>1971</td>\n",
       "      <td>\\N</td>\n",
       "      <td>121</td>\n",
       "      <td>0</td>\n",
       "      <td>Comedy,Crime,Drama</td>\n",
       "      <td>6.3</td>\n",
       "      <td>2218.0</td>\n",
       "      <td>The pakage implies that Warren Beatty and Gold...</td>\n",
       "      <td>1</td>\n",
       "      <td>neg</td>\n",
       "      <td>0</td>\n",
       "      <td>train</td>\n",
       "      <td>8335</td>\n",
       "      <td>the pakage implies that warren beatty and gold...</td>\n",
       "    </tr>\n",
       "    <tr>\n",
       "      <th>1</th>\n",
       "      <td>tt0068152</td>\n",
       "      <td>movie</td>\n",
       "      <td>$</td>\n",
       "      <td>$</td>\n",
       "      <td>1971</td>\n",
       "      <td>\\N</td>\n",
       "      <td>121</td>\n",
       "      <td>0</td>\n",
       "      <td>Comedy,Crime,Drama</td>\n",
       "      <td>6.3</td>\n",
       "      <td>2218.0</td>\n",
       "      <td>How the hell did they get this made?! Presenti...</td>\n",
       "      <td>1</td>\n",
       "      <td>neg</td>\n",
       "      <td>0</td>\n",
       "      <td>train</td>\n",
       "      <td>8336</td>\n",
       "      <td>how the hell did they get this made presenting...</td>\n",
       "    </tr>\n",
       "    <tr>\n",
       "      <th>2</th>\n",
       "      <td>tt0313150</td>\n",
       "      <td>short</td>\n",
       "      <td>'15'</td>\n",
       "      <td>'15'</td>\n",
       "      <td>2002</td>\n",
       "      <td>\\N</td>\n",
       "      <td>25</td>\n",
       "      <td>0</td>\n",
       "      <td>Comedy,Drama,Short</td>\n",
       "      <td>6.3</td>\n",
       "      <td>184.0</td>\n",
       "      <td>There is no real story the film seems more lik...</td>\n",
       "      <td>3</td>\n",
       "      <td>neg</td>\n",
       "      <td>0</td>\n",
       "      <td>test</td>\n",
       "      <td>2489</td>\n",
       "      <td>there is no real story the film seems more lik...</td>\n",
       "    </tr>\n",
       "    <tr>\n",
       "      <th>3</th>\n",
       "      <td>tt0313150</td>\n",
       "      <td>short</td>\n",
       "      <td>'15'</td>\n",
       "      <td>'15'</td>\n",
       "      <td>2002</td>\n",
       "      <td>\\N</td>\n",
       "      <td>25</td>\n",
       "      <td>0</td>\n",
       "      <td>Comedy,Drama,Short</td>\n",
       "      <td>6.3</td>\n",
       "      <td>184.0</td>\n",
       "      <td>Um .... a serious film about troubled teens in...</td>\n",
       "      <td>7</td>\n",
       "      <td>pos</td>\n",
       "      <td>1</td>\n",
       "      <td>test</td>\n",
       "      <td>9280</td>\n",
       "      <td>um a serious film about troubled teen in singa...</td>\n",
       "    </tr>\n",
       "    <tr>\n",
       "      <th>4</th>\n",
       "      <td>tt0313150</td>\n",
       "      <td>short</td>\n",
       "      <td>'15'</td>\n",
       "      <td>'15'</td>\n",
       "      <td>2002</td>\n",
       "      <td>\\N</td>\n",
       "      <td>25</td>\n",
       "      <td>0</td>\n",
       "      <td>Comedy,Drama,Short</td>\n",
       "      <td>6.3</td>\n",
       "      <td>184.0</td>\n",
       "      <td>I'm totally agree with GarryJohal from Singapo...</td>\n",
       "      <td>9</td>\n",
       "      <td>pos</td>\n",
       "      <td>1</td>\n",
       "      <td>test</td>\n",
       "      <td>9281</td>\n",
       "      <td>i 'm totally agree with garryjohal from singap...</td>\n",
       "    </tr>\n",
       "  </tbody>\n",
       "</table>\n",
       "</div>"
      ],
      "text/plain": [
       "      tconst title_type primary_title original_title  start_year end_year  \\\n",
       "0  tt0068152      movie             $              $        1971       \\N   \n",
       "1  tt0068152      movie             $              $        1971       \\N   \n",
       "2  tt0313150      short          '15'           '15'        2002       \\N   \n",
       "3  tt0313150      short          '15'           '15'        2002       \\N   \n",
       "4  tt0313150      short          '15'           '15'        2002       \\N   \n",
       "\n",
       "  runtime_minutes  is_adult              genres  average_rating   votes  \\\n",
       "0             121         0  Comedy,Crime,Drama             6.3  2218.0   \n",
       "1             121         0  Comedy,Crime,Drama             6.3  2218.0   \n",
       "2              25         0  Comedy,Drama,Short             6.3   184.0   \n",
       "3              25         0  Comedy,Drama,Short             6.3   184.0   \n",
       "4              25         0  Comedy,Drama,Short             6.3   184.0   \n",
       "\n",
       "                                              review  rating   sp  pos  \\\n",
       "0  The pakage implies that Warren Beatty and Gold...       1  neg    0   \n",
       "1  How the hell did they get this made?! Presenti...       1  neg    0   \n",
       "2  There is no real story the film seems more lik...       3  neg    0   \n",
       "3  Um .... a serious film about troubled teens in...       7  pos    1   \n",
       "4  I'm totally agree with GarryJohal from Singapo...       9  pos    1   \n",
       "\n",
       "  ds_part   idx                                     cleaned_review  \n",
       "0   train  8335  the pakage implies that warren beatty and gold...  \n",
       "1   train  8336  how the hell did they get this made presenting...  \n",
       "2    test  2489  there is no real story the film seems more lik...  \n",
       "3    test  9280  um a serious film about troubled teen in singa...  \n",
       "4    test  9281  i 'm totally agree with garryjohal from singap...  "
      ]
     },
     "execution_count": 12,
     "metadata": {},
     "output_type": "execute_result"
    }
   ],
   "source": [
    "df.head()"
   ]
  },
  {
   "cell_type": "markdown",
   "id": "1f6c6637",
   "metadata": {},
   "source": [
    "Here we lemmatized the reviews which means we standarized the words in a text ensuring that variations of a words are treated as the same entity, which imrpoves consistency and accuracy of text analysis and modeling. \n",
    "\n",
    "I also tokenized the process which is breaking down a text into individual units called tookens, which can be words, phrases or symbols. This step is essential for converting the text into a structured format that can be easily processed and analyzed by machine learning algoirthms. "
   ]
  },
  {
   "cell_type": "markdown",
   "id": "cbd88792",
   "metadata": {},
   "source": [
    "### Removing irrelevant columns \n",
    "\n",
    "Columns likely to be irrelevant:\n",
    "\n",
    "tconst\n",
    "\n",
    "title_type\n",
    "\n",
    "primary_title\n",
    "\n",
    "original_title\n",
    "\n",
    "start_year\n",
    "\n",
    "end_year\n",
    "\n",
    "runtime_minutes\n",
    "\n",
    "is_adult\n",
    "\n",
    "genres\n",
    "\n",
    "average_rating\n",
    "\n",
    "votes\n",
    "\n",
    "sp\n",
    "\n",
    "idx\n",
    "\n",
    "review (since we have cleaned_review)\n",
    "\n",
    "\n",
    "- All of these columns dont seem to relevant to our task which is related to the text analysis and sentiment classification tas, as these columns contain data baout the movies (e.g titles, years, genres) rather than information pertinent to the content or sentiment of the reviews. By focusing on 'cleaned_review', 'pos', and 'ds_part' columns, we ensure that our dataset is focused and directly aligned with our goal of classifying the sentiment of movie reviews "
   ]
  },
  {
   "cell_type": "code",
   "execution_count": null,
   "id": "770ecc6e",
   "metadata": {},
   "outputs": [],
   "source": [
    "columns_to_keep = ['cleaned_review', 'pos', 'ds_part']"
   ]
  },
  {
   "cell_type": "code",
   "execution_count": null,
   "id": "c1156b94",
   "metadata": {},
   "outputs": [],
   "source": [
    "df = df[columns_to_keep]"
   ]
  },
  {
   "cell_type": "code",
   "execution_count": null,
   "id": "73270713",
   "metadata": {},
   "outputs": [
    {
     "name": "stdout",
     "output_type": "stream",
     "text": [
      "<class 'pandas.core.frame.DataFrame'>\n",
      "RangeIndex: 47331 entries, 0 to 47330\n",
      "Data columns (total 3 columns):\n",
      " #   Column          Non-Null Count  Dtype \n",
      "---  ------          --------------  ----- \n",
      " 0   cleaned_review  47331 non-null  object\n",
      " 1   pos             47331 non-null  int64 \n",
      " 2   ds_part         47331 non-null  object\n",
      "dtypes: int64(1), object(2)\n",
      "memory usage: 1.1+ MB\n"
     ]
    }
   ],
   "source": [
    "df.info()"
   ]
  },
  {
   "cell_type": "code",
   "execution_count": null,
   "id": "2f7bd029",
   "metadata": {},
   "outputs": [
    {
     "data": {
      "text/html": [
       "<div>\n",
       "<style scoped>\n",
       "    .dataframe tbody tr th:only-of-type {\n",
       "        vertical-align: middle;\n",
       "    }\n",
       "\n",
       "    .dataframe tbody tr th {\n",
       "        vertical-align: top;\n",
       "    }\n",
       "\n",
       "    .dataframe thead th {\n",
       "        text-align: right;\n",
       "    }\n",
       "</style>\n",
       "<table border=\"1\" class=\"dataframe\">\n",
       "  <thead>\n",
       "    <tr style=\"text-align: right;\">\n",
       "      <th></th>\n",
       "      <th>cleaned_review</th>\n",
       "      <th>pos</th>\n",
       "      <th>ds_part</th>\n",
       "    </tr>\n",
       "  </thead>\n",
       "  <tbody>\n",
       "    <tr>\n",
       "      <th>0</th>\n",
       "      <td>the pakage implies that warren beatty and gold...</td>\n",
       "      <td>0</td>\n",
       "      <td>train</td>\n",
       "    </tr>\n",
       "    <tr>\n",
       "      <th>1</th>\n",
       "      <td>how the hell did they get this made presenting...</td>\n",
       "      <td>0</td>\n",
       "      <td>train</td>\n",
       "    </tr>\n",
       "    <tr>\n",
       "      <th>2</th>\n",
       "      <td>there is no real story the film seems more lik...</td>\n",
       "      <td>0</td>\n",
       "      <td>test</td>\n",
       "    </tr>\n",
       "    <tr>\n",
       "      <th>3</th>\n",
       "      <td>um a serious film about troubled teen in singa...</td>\n",
       "      <td>1</td>\n",
       "      <td>test</td>\n",
       "    </tr>\n",
       "    <tr>\n",
       "      <th>4</th>\n",
       "      <td>i 'm totally agree with garryjohal from singap...</td>\n",
       "      <td>1</td>\n",
       "      <td>test</td>\n",
       "    </tr>\n",
       "  </tbody>\n",
       "</table>\n",
       "</div>"
      ],
      "text/plain": [
       "                                      cleaned_review  pos ds_part\n",
       "0  the pakage implies that warren beatty and gold...    0   train\n",
       "1  how the hell did they get this made presenting...    0   train\n",
       "2  there is no real story the film seems more lik...    0    test\n",
       "3  um a serious film about troubled teen in singa...    1    test\n",
       "4  i 'm totally agree with garryjohal from singap...    1    test"
      ]
     },
     "execution_count": 16,
     "metadata": {},
     "output_type": "execute_result"
    }
   ],
   "source": [
    "df.head()"
   ]
  },
  {
   "cell_type": "markdown",
   "id": "1094cc32",
   "metadata": {},
   "source": [
    "## Exploratory Data Analysis (EDA). \n",
    "\n",
    "- Focusing on understanding the distribution of our target variable ('pos'), checking for class imbalance, and visualizing the data to gain insights. "
   ]
  },
  {
   "cell_type": "code",
   "execution_count": null,
   "id": "e2cce1a1",
   "metadata": {},
   "outputs": [],
   "source": [
    "import matplotlib.pyplot as plt\n",
    "import seaborn as sns"
   ]
  },
  {
   "cell_type": "code",
   "execution_count": null,
   "id": "e533ed92",
   "metadata": {},
   "outputs": [
    {
     "data": {
      "text/plain": [
       "0    23715\n",
       "1    23616\n",
       "Name: pos, dtype: int64"
      ]
     },
     "execution_count": 18,
     "metadata": {},
     "output_type": "execute_result"
    }
   ],
   "source": [
    "# Checking the class distribuion\n",
    "class_distribution = df['pos'].value_counts()\n",
    "class_distribution"
   ]
  },
  {
   "cell_type": "code",
   "execution_count": null,
   "id": "cd1ca492",
   "metadata": {},
   "outputs": [
    {
     "data": {
      "image/png": "[encoded data removed]",
      "text/plain": [
       "<Figure size 640x480 with 1 Axes>"
      ]
     },
     "metadata": {},
     "output_type": "display_data"
    }
   ],
   "source": [
    "# Visualizing the class distribution\n",
    "sns.countplot(x='pos', data=df)\n",
    "plt.title('Class Distribution of Reviews')\n",
    "plt.xlabel('Class')\n",
    "plt.ylabel('Frequency')\n",
    "plt.xticks(ticks=[0, 1], labels=['Negative', 'Positive'])\n",
    "plt.show()"
   ]
  },
  {
   "cell_type": "markdown",
   "id": "877df284",
   "metadata": {},
   "source": [
    "The dataset as a whole class imbalance wise looks balanced, now let's check the distribution in the train and test sets seperately"
   ]
  },
  {
   "cell_type": "code",
   "execution_count": null,
   "id": "ed8ed39b",
   "metadata": {},
   "outputs": [],
   "source": [
    "train_data = df[df['ds_part'] == 'train']\n",
    "test_data = df[df['ds_part'] == 'test']"
   ]
  },
  {
   "cell_type": "code",
   "execution_count": null,
   "id": "f0748b23",
   "metadata": {},
   "outputs": [
    {
     "name": "stdout",
     "output_type": "stream",
     "text": [
      "Train Class Distribution:\n",
      " 0    11912\n",
      "1    11884\n",
      "Name: pos, dtype: int64\n",
      "Test Class Distribution:\n",
      " 0    11803\n",
      "1    11732\n",
      "Name: pos, dtype: int64\n"
     ]
    }
   ],
   "source": [
    "train_class_distribution = train_data['pos'].value_counts()\n",
    "test_class_distribution = test_data['pos'].value_counts()\n",
    "\n",
    "print(\"Train Class Distribution:\\n\", train_class_distribution)\n",
    "print(\"Test Class Distribution:\\n\", test_class_distribution)"
   ]
  },
  {
   "cell_type": "code",
   "execution_count": null,
   "id": "911dbc15",
   "metadata": {},
   "outputs": [
    {
     "data": {
      "image/png": "[encoded data removed]",
      "text/plain": [
       "<Figure size 1200x600 with 2 Axes>"
      ]
     },
     "metadata": {},
     "output_type": "display_data"
    }
   ],
   "source": [
    "# Visualizing the class distribution for train and test sets\n",
    "fig, axes = plt.subplots(1, 2, figsize=(12, 6))\n",
    "\n",
    "sns.countplot(x='pos', data=train_data, ax=axes[0])\n",
    "axes[0].set_title('Class Distribution in Training Set')\n",
    "axes[0].set_xlabel('Class')\n",
    "axes[0].set_ylabel('Number of Cases')\n",
    "axes[0].set_xticks([0, 1])\n",
    "axes[0].set_xticklabels(['Negative', 'Positive'])\n",
    "\n",
    "sns.countplot(x='pos', data=test_data, ax=axes[1])\n",
    "axes[1].set_title('Class Distribution in Test Set')\n",
    "axes[1].set_xlabel('Class')\n",
    "axes[1].set_ylabel('Number of Cases')\n",
    "axes[1].set_xticks([0, 1])\n",
    "axes[1].set_xticklabels(['Negative', 'Positive'])\n",
    "\n",
    "plt.tight_layout()\n",
    "plt.show()"
   ]
  },
  {
   "cell_type": "markdown",
   "id": "45b8140c",
   "metadata": {},
   "source": [
    "Conclusion from EDA \n",
    "\n",
    "    - The class distribution for both the training and test sets is near balanced, with an almsot equal number of positive (1) and negative (0) reviews. The balance means the dataset is well suited for a training sentiment classifcation model without the need for special techniques to address class imbalance.\n",
    "    \n",
    "If there was a need for class imbalance some techniques are:\n",
    "\n",
    "- Resamplling such as Oversampling and Undersampling\n",
    "- Algorithmic Approaches such as adjusting class weight or using ensemble methods on random forest models that are designed to handle class imbalance \n",
    "- Data Augmentation by generating synthetic data for the minoirty class using methods like data augmentation, which can create variations of the existing inority class instances \n",
    "\n",
    "- Hybdrid methods such as combining multiple techniques like SMOTE followed by under or oversampling \n",
    "\n"
   ]
  },
  {
   "cell_type": "markdown",
   "id": "cf3e13b6",
   "metadata": {},
   "source": [
    "## Preprocessing the Data for Modeling \n",
    "\n",
    "- Will be converting the cleaned text data into numerical vectors using methods like TF-IDF. This will allow us to feed the text data into machine learning models \n"
   ]
  },
  {
   "cell_type": "code",
   "execution_count": null,
   "id": "40434893",
   "metadata": {},
   "outputs": [],
   "source": [
    "from sklearn.feature_extraction.text import TfidfVectorizer"
   ]
  },
  {
   "cell_type": "code",
   "execution_count": null,
   "id": "26a6c10e",
   "metadata": {},
   "outputs": [],
   "source": [
    "tfidf_vectorizer = TfidfVectorizer(stop_words='english', max_features=10000)"
   ]
  },
  {
   "cell_type": "code",
   "execution_count": null,
   "id": "0db27d65",
   "metadata": {},
   "outputs": [],
   "source": [
    "# fitting and transforming the data \n",
    "\n",
    "X_train = train_data['cleaned_review']\n",
    "y_train = train_data['pos']\n",
    "X_test = test_data['cleaned_review']\n",
    "y_test = test_data['pos']"
   ]
  },
  {
   "cell_type": "code",
   "execution_count": null,
   "id": "a7b7ba39",
   "metadata": {},
   "outputs": [],
   "source": [
    "X_train_tfidf = tfidf_vectorizer.fit_transform(X_train)\n",
    "X_test_tfidf = tfidf_vectorizer.transform(X_test)"
   ]
  },
  {
   "cell_type": "code",
   "execution_count": null,
   "id": "3b662abc",
   "metadata": {},
   "outputs": [
    {
     "name": "stdout",
     "output_type": "stream",
     "text": [
      "TF-IDF Train Matrix Shape: (23796, 10000)\n",
      "TF-IDF Test Matrix Shape: (23535, 10000)\n"
     ]
    }
   ],
   "source": [
    "# Inspect the shape of the TF-IDF matrices\n",
    "print(\"TF-IDF Train Matrix Shape:\", X_train_tfidf.shape)\n",
    "print(\"TF-IDF Test Matrix Shape:\", X_test_tfidf.shape)"
   ]
  },
  {
   "cell_type": "markdown",
   "id": "70dcc5e6",
   "metadata": {},
   "source": [
    "Explanation of TF-IDF and Its usage \n",
    "\n",
    "In this step, I am converting th ecleaned text data into numerical vectors using a technique called Tf-IDF (Term frequency-Inverse Document Frequency). TF-IDF is important because it transforms textual data into a format that machine learning models can understand. It quantifies the importance of words in a document relative to the entire corpus. The term frequency (TF) represents how often a word appears in a document, while the inverse document frequency (IDF) reduces the weight of common words that appear in many documents, highlighting words that ae more unique to each document. This helps the model focus on words that are more informative and less on common words like \"the\" \"or\" \"and\".\n",
    "\n",
    "We use 'fit_transform' on the training set because this process involves both learning the vocabulary from the training data and then transforming the training data into the TF-IDF representation. When I call 'fit' the vectorizer learns the vocab and the IDF values based on the training data. The 'transform' function on the other hand uses this learned vocab to transform the test data into the same Tf-IDF feature space without altering the learned vocabulary or IDF values. This ensures that the test dat aprocessed in the same way as the training data, maintaining consistency and allowing for accurate evaluation of the model.\n",
    "\n",
    "\n",
    "Summary:\n",
    "\n",
    "- TF-IDF: Converts text to numerical features, emphasizing unique words.\n",
    "\n",
    "- fit_transform on Training Set: Learns vocabulary and transforms text to TF-IDF.\n",
    "\n",
    "- transform on Test Set: Uses learned vocabulary to transform text to TF-IDF, ensuring consistency."
   ]
  },
  {
   "cell_type": "markdown",
   "id": "c75082fb",
   "metadata": {},
   "source": [
    "## Train at least Three Different Models \n",
    "\n",
    "- Logistic Regression\n",
    "- Random Forest Classifier \n",
    "- Gradient Boosting Classifier "
   ]
  },
  {
   "cell_type": "code",
   "execution_count": null,
   "id": "8a9e158a",
   "metadata": {},
   "outputs": [],
   "source": [
    "from sklearn.linear_model import LogisticRegression\n",
    "from sklearn.ensemble import RandomForestClassifier, GradientBoostingClassifier\n",
    "from sklearn.metrics import classification_report, f1_score"
   ]
  },
  {
   "cell_type": "code",
   "execution_count": null,
   "id": "cdad4e0a",
   "metadata": {},
   "outputs": [],
   "source": [
    "# Initializing models \n",
    "\n",
    "log_reg = LogisticRegression(max_iter=1000)"
   ]
  },
  {
   "cell_type": "code",
   "execution_count": null,
   "id": "ff99e843",
   "metadata": {},
   "outputs": [
    {
     "data": {
      "text/plain": [
       "LogisticRegression(max_iter=1000)"
      ]
     },
     "execution_count": 30,
     "metadata": {},
     "output_type": "execute_result"
    }
   ],
   "source": [
    "# Training the models \n",
    "log_reg.fit(X_train_tfidf, y_train)"
   ]
  },
  {
   "cell_type": "code",
   "execution_count": null,
   "id": "d2a065c2",
   "metadata": {},
   "outputs": [],
   "source": [
    "# predictions\n",
    "y_pred_log_reg = log_reg.predict(X_test_tfidf)\n"
   ]
  },
  {
   "cell_type": "code",
   "execution_count": null,
   "id": "ccf387f2",
   "metadata": {},
   "outputs": [
    {
     "name": "stdout",
     "output_type": "stream",
     "text": [
      "Logistic Regression:\n",
      "               precision    recall  f1-score   support\n",
      "\n",
      "           0       0.87      0.88      0.88     11803\n",
      "           1       0.88      0.87      0.87     11732\n",
      "\n",
      "    accuracy                           0.88     23535\n",
      "   macro avg       0.88      0.88      0.88     23535\n",
      "weighted avg       0.88      0.88      0.88     23535\n",
      "\n"
     ]
    }
   ],
   "source": [
    "# Evaluating Model\n",
    "\n",
    "print(\"Logistic Regression:\\n\", classification_report(y_test, y_pred_log_reg))"
   ]
  },
  {
   "cell_type": "code",
   "execution_count": null,
   "id": "f9d29439",
   "metadata": {},
   "outputs": [
    {
     "name": "stdout",
     "output_type": "stream",
     "text": [
      "F1 Score Logistic Regression: 0.8743430890835291\n"
     ]
    }
   ],
   "source": [
    "# Calculating F1 scores\n",
    "f1_log_reg = f1_score(y_test, y_pred_log_reg)\n",
    "\n",
    "print(f\"F1 Score Logistic Regression: {f1_log_reg}\")\n"
   ]
  },
  {
   "cell_type": "markdown",
   "id": "f5fac564",
   "metadata": {},
   "source": [
    "Our basic logistic model did quiet well! Now will go on to some more complicated models."
   ]
  },
  {
   "cell_type": "markdown",
   "id": "a59b592f",
   "metadata": {},
   "source": [
    "### Hyperparamater Tuning for Gradient Boosting and Random Forest "
   ]
  },
  {
   "cell_type": "code",
   "execution_count": null,
   "id": "2b175d8a",
   "metadata": {},
   "outputs": [
    {
     "name": "stdout",
     "output_type": "stream",
     "text": [
      "Fitting 3 folds for each of 8 candidates, totalling 24 fits\n",
      "[CV] END ....learning_rate=0.1, max_depth=3, n_estimators=50; total time=  27.5s\n",
      "[CV] END ....learning_rate=0.1, max_depth=3, n_estimators=50; total time=  27.4s\n",
      "[CV] END ....learning_rate=0.1, max_depth=3, n_estimators=50; total time=  27.0s\n",
      "[CV] END ...learning_rate=0.1, max_depth=3, n_estimators=100; total time=  54.6s\n",
      "[CV] END ...learning_rate=0.1, max_depth=3, n_estimators=100; total time=  54.7s\n",
      "[CV] END ...learning_rate=0.1, max_depth=3, n_estimators=100; total time=  53.8s\n",
      "[CV] END ....learning_rate=0.1, max_depth=5, n_estimators=50; total time=  46.9s\n",
      "[CV] END ....learning_rate=0.1, max_depth=5, n_estimators=50; total time=  48.0s\n",
      "[CV] END ....learning_rate=0.1, max_depth=5, n_estimators=50; total time=  46.3s\n",
      "[CV] END ...learning_rate=0.1, max_depth=5, n_estimators=100; total time= 1.6min\n",
      "[CV] END ...learning_rate=0.1, max_depth=5, n_estimators=100; total time= 1.6min\n",
      "[CV] END ...learning_rate=0.1, max_depth=5, n_estimators=100; total time= 1.5min\n",
      "[CV] END ....learning_rate=0.2, max_depth=3, n_estimators=50; total time=  27.4s\n",
      "[CV] END ....learning_rate=0.2, max_depth=3, n_estimators=50; total time=  27.4s\n",
      "[CV] END ....learning_rate=0.2, max_depth=3, n_estimators=50; total time=  26.7s\n",
      "[CV] END ...learning_rate=0.2, max_depth=3, n_estimators=100; total time=  54.5s\n",
      "[CV] END ...learning_rate=0.2, max_depth=3, n_estimators=100; total time=  54.6s\n",
      "[CV] END ...learning_rate=0.2, max_depth=3, n_estimators=100; total time=  53.5s\n",
      "[CV] END ....learning_rate=0.2, max_depth=5, n_estimators=50; total time=  46.6s\n",
      "[CV] END ....learning_rate=0.2, max_depth=5, n_estimators=50; total time=  46.8s\n",
      "[CV] END ....learning_rate=0.2, max_depth=5, n_estimators=50; total time=  45.8s\n",
      "[CV] END ...learning_rate=0.2, max_depth=5, n_estimators=100; total time= 1.5min\n",
      "[CV] END ...learning_rate=0.2, max_depth=5, n_estimators=100; total time= 1.6min\n",
      "[CV] END ...learning_rate=0.2, max_depth=5, n_estimators=100; total time= 1.5min\n",
      "Fitting 3 folds for each of 8 candidates, totalling 24 fits\n",
      "[CV] END max_depth=None, min_samples_split=2, n_estimators=50; total time=  13.8s\n",
      "[CV] END max_depth=None, min_samples_split=2, n_estimators=50; total time=  14.2s\n",
      "[CV] END max_depth=None, min_samples_split=2, n_estimators=50; total time=  13.7s\n",
      "[CV] END max_depth=None, min_samples_split=2, n_estimators=100; total time=  27.9s\n",
      "[CV] END max_depth=None, min_samples_split=2, n_estimators=100; total time=  27.7s\n",
      "[CV] END max_depth=None, min_samples_split=2, n_estimators=100; total time=  29.2s\n",
      "[CV] END max_depth=None, min_samples_split=5, n_estimators=50; total time=  13.0s\n",
      "[CV] END max_depth=None, min_samples_split=5, n_estimators=50; total time=  13.4s\n",
      "[CV] END max_depth=None, min_samples_split=5, n_estimators=50; total time=  12.8s\n"
     ]
    },
    {
     "ename": "KeyboardInterrupt",
     "evalue": "",
     "output_type": "error",
     "traceback": [
      "\u001b[0;31m---------------------------------------------------------------------------\u001b[0m",
      "\u001b[0;31mKeyboardInterrupt\u001b[0m                         Traceback (most recent call last)",
      "Cell \u001b[0;32mIn[34], line 26\u001b[0m\n\u001b[1;32m     24\u001b[0m \u001b[38;5;66;03m# GridSearchCV for Random Forest\u001b[39;00m\n\u001b[1;32m     25\u001b[0m grid_search_rf \u001b[38;5;241m=\u001b[39m GridSearchCV(estimator\u001b[38;5;241m=\u001b[39mrandom_forest, param_grid\u001b[38;5;241m=\u001b[39mparam_grid_rf, scoring\u001b[38;5;241m=\u001b[39m\u001b[38;5;124m'\u001b[39m\u001b[38;5;124mf1\u001b[39m\u001b[38;5;124m'\u001b[39m, cv\u001b[38;5;241m=\u001b[39m\u001b[38;5;241m3\u001b[39m, n_jobs\u001b[38;5;241m=\u001b[39m\u001b[38;5;241m-\u001b[39m\u001b[38;5;241m1\u001b[39m, verbose\u001b[38;5;241m=\u001b[39m\u001b[38;5;241m2\u001b[39m)\n\u001b[0;32m---> 26\u001b[0m \u001b[43mgrid_search_rf\u001b[49m\u001b[38;5;241;43m.\u001b[39;49m\u001b[43mfit\u001b[49m\u001b[43m(\u001b[49m\u001b[43mX_train_tfidf\u001b[49m\u001b[43m,\u001b[49m\u001b[43m \u001b[49m\u001b[43my_train\u001b[49m\u001b[43m)\u001b[49m\n\u001b[1;32m     28\u001b[0m \u001b[38;5;66;03m# Best parameters and best score\u001b[39;00m\n\u001b[1;32m     29\u001b[0m \u001b[38;5;28mprint\u001b[39m(\u001b[38;5;124m\"\u001b[39m\u001b[38;5;124mBest parameters for Gradient Boosting:\u001b[39m\u001b[38;5;124m\"\u001b[39m, grid_search_gb\u001b[38;5;241m.\u001b[39mbest_params_)\n",
      "File \u001b[0;32m/opt/conda/envs/python3/lib/python3.9/site-packages/sklearn/utils/validation.py:63\u001b[0m, in \u001b[0;36m_deprecate_positional_args.<locals>._inner_deprecate_positional_args.<locals>.inner_f\u001b[0;34m(*args, **kwargs)\u001b[0m\n\u001b[1;32m     61\u001b[0m extra_args \u001b[38;5;241m=\u001b[39m \u001b[38;5;28mlen\u001b[39m(args) \u001b[38;5;241m-\u001b[39m \u001b[38;5;28mlen\u001b[39m(all_args)\n\u001b[1;32m     62\u001b[0m \u001b[38;5;28;01mif\u001b[39;00m extra_args \u001b[38;5;241m<\u001b[39m\u001b[38;5;241m=\u001b[39m \u001b[38;5;241m0\u001b[39m:\n\u001b[0;32m---> 63\u001b[0m     \u001b[38;5;28;01mreturn\u001b[39;00m \u001b[43mf\u001b[49m\u001b[43m(\u001b[49m\u001b[38;5;241;43m*\u001b[39;49m\u001b[43margs\u001b[49m\u001b[43m,\u001b[49m\u001b[43m \u001b[49m\u001b[38;5;241;43m*\u001b[39;49m\u001b[38;5;241;43m*\u001b[39;49m\u001b[43mkwargs\u001b[49m\u001b[43m)\u001b[49m\n\u001b[1;32m     65\u001b[0m \u001b[38;5;66;03m# extra_args > 0\u001b[39;00m\n\u001b[1;32m     66\u001b[0m args_msg \u001b[38;5;241m=\u001b[39m [\u001b[38;5;124m'\u001b[39m\u001b[38;5;132;01m{}\u001b[39;00m\u001b[38;5;124m=\u001b[39m\u001b[38;5;132;01m{}\u001b[39;00m\u001b[38;5;124m'\u001b[39m\u001b[38;5;241m.\u001b[39mformat(name, arg)\n\u001b[1;32m     67\u001b[0m             \u001b[38;5;28;01mfor\u001b[39;00m name, arg \u001b[38;5;129;01min\u001b[39;00m \u001b[38;5;28mzip\u001b[39m(kwonly_args[:extra_args],\n\u001b[1;32m     68\u001b[0m                                  args[\u001b[38;5;241m-\u001b[39mextra_args:])]\n",
      "File \u001b[0;32m/opt/conda/envs/python3/lib/python3.9/site-packages/sklearn/model_selection/_search.py:841\u001b[0m, in \u001b[0;36mBaseSearchCV.fit\u001b[0;34m(self, X, y, groups, **fit_params)\u001b[0m\n\u001b[1;32m    835\u001b[0m     results \u001b[38;5;241m=\u001b[39m \u001b[38;5;28mself\u001b[39m\u001b[38;5;241m.\u001b[39m_format_results(\n\u001b[1;32m    836\u001b[0m         all_candidate_params, n_splits, all_out,\n\u001b[1;32m    837\u001b[0m         all_more_results)\n\u001b[1;32m    839\u001b[0m     \u001b[38;5;28;01mreturn\u001b[39;00m results\n\u001b[0;32m--> 841\u001b[0m \u001b[38;5;28;43mself\u001b[39;49m\u001b[38;5;241;43m.\u001b[39;49m\u001b[43m_run_search\u001b[49m\u001b[43m(\u001b[49m\u001b[43mevaluate_candidates\u001b[49m\u001b[43m)\u001b[49m\n\u001b[1;32m    843\u001b[0m \u001b[38;5;66;03m# multimetric is determined here because in the case of a callable\u001b[39;00m\n\u001b[1;32m    844\u001b[0m \u001b[38;5;66;03m# self.scoring the return type is only known after calling\u001b[39;00m\n\u001b[1;32m    845\u001b[0m first_test_score \u001b[38;5;241m=\u001b[39m all_out[\u001b[38;5;241m0\u001b[39m][\u001b[38;5;124m'\u001b[39m\u001b[38;5;124mtest_scores\u001b[39m\u001b[38;5;124m'\u001b[39m]\n",
      "File \u001b[0;32m/opt/conda/envs/python3/lib/python3.9/site-packages/sklearn/model_selection/_search.py:1288\u001b[0m, in \u001b[0;36mGridSearchCV._run_search\u001b[0;34m(self, evaluate_candidates)\u001b[0m\n\u001b[1;32m   1286\u001b[0m \u001b[38;5;28;01mdef\u001b[39;00m \u001b[38;5;21m_run_search\u001b[39m(\u001b[38;5;28mself\u001b[39m, evaluate_candidates):\n\u001b[1;32m   1287\u001b[0m \u001b[38;5;250m    \u001b[39m\u001b[38;5;124;03m\"\"\"Search all candidates in param_grid\"\"\"\u001b[39;00m\n\u001b[0;32m-> 1288\u001b[0m     \u001b[43mevaluate_candidates\u001b[49m\u001b[43m(\u001b[49m\u001b[43mParameterGrid\u001b[49m\u001b[43m(\u001b[49m\u001b[38;5;28;43mself\u001b[39;49m\u001b[38;5;241;43m.\u001b[39;49m\u001b[43mparam_grid\u001b[49m\u001b[43m)\u001b[49m\u001b[43m)\u001b[49m\n",
      "File \u001b[0;32m/opt/conda/envs/python3/lib/python3.9/site-packages/sklearn/model_selection/_search.py:795\u001b[0m, in \u001b[0;36mBaseSearchCV.fit.<locals>.evaluate_candidates\u001b[0;34m(candidate_params, cv, more_results)\u001b[0m\n\u001b[1;32m    790\u001b[0m \u001b[38;5;28;01mif\u001b[39;00m \u001b[38;5;28mself\u001b[39m\u001b[38;5;241m.\u001b[39mverbose \u001b[38;5;241m>\u001b[39m \u001b[38;5;241m0\u001b[39m:\n\u001b[1;32m    791\u001b[0m     \u001b[38;5;28mprint\u001b[39m(\u001b[38;5;124m\"\u001b[39m\u001b[38;5;124mFitting \u001b[39m\u001b[38;5;132;01m{0}\u001b[39;00m\u001b[38;5;124m folds for each of \u001b[39m\u001b[38;5;132;01m{1}\u001b[39;00m\u001b[38;5;124m candidates,\u001b[39m\u001b[38;5;124m\"\u001b[39m\n\u001b[1;32m    792\u001b[0m           \u001b[38;5;124m\"\u001b[39m\u001b[38;5;124m totalling \u001b[39m\u001b[38;5;132;01m{2}\u001b[39;00m\u001b[38;5;124m fits\u001b[39m\u001b[38;5;124m\"\u001b[39m\u001b[38;5;241m.\u001b[39mformat(\n\u001b[1;32m    793\u001b[0m               n_splits, n_candidates, n_candidates \u001b[38;5;241m*\u001b[39m n_splits))\n\u001b[0;32m--> 795\u001b[0m out \u001b[38;5;241m=\u001b[39m \u001b[43mparallel\u001b[49m\u001b[43m(\u001b[49m\u001b[43mdelayed\u001b[49m\u001b[43m(\u001b[49m\u001b[43m_fit_and_score\u001b[49m\u001b[43m)\u001b[49m\u001b[43m(\u001b[49m\u001b[43mclone\u001b[49m\u001b[43m(\u001b[49m\u001b[43mbase_estimator\u001b[49m\u001b[43m)\u001b[49m\u001b[43m,\u001b[49m\n\u001b[1;32m    796\u001b[0m \u001b[43m                                       \u001b[49m\u001b[43mX\u001b[49m\u001b[43m,\u001b[49m\u001b[43m \u001b[49m\u001b[43my\u001b[49m\u001b[43m,\u001b[49m\n\u001b[1;32m    797\u001b[0m \u001b[43m                                       \u001b[49m\u001b[43mtrain\u001b[49m\u001b[38;5;241;43m=\u001b[39;49m\u001b[43mtrain\u001b[49m\u001b[43m,\u001b[49m\u001b[43m \u001b[49m\u001b[43mtest\u001b[49m\u001b[38;5;241;43m=\u001b[39;49m\u001b[43mtest\u001b[49m\u001b[43m,\u001b[49m\n\u001b[1;32m    798\u001b[0m \u001b[43m                                       \u001b[49m\u001b[43mparameters\u001b[49m\u001b[38;5;241;43m=\u001b[39;49m\u001b[43mparameters\u001b[49m\u001b[43m,\u001b[49m\n\u001b[1;32m    799\u001b[0m \u001b[43m                                       \u001b[49m\u001b[43msplit_progress\u001b[49m\u001b[38;5;241;43m=\u001b[39;49m\u001b[43m(\u001b[49m\n\u001b[1;32m    800\u001b[0m \u001b[43m                                           \u001b[49m\u001b[43msplit_idx\u001b[49m\u001b[43m,\u001b[49m\n\u001b[1;32m    801\u001b[0m \u001b[43m                                           \u001b[49m\u001b[43mn_splits\u001b[49m\u001b[43m)\u001b[49m\u001b[43m,\u001b[49m\n\u001b[1;32m    802\u001b[0m \u001b[43m                                       \u001b[49m\u001b[43mcandidate_progress\u001b[49m\u001b[38;5;241;43m=\u001b[39;49m\u001b[43m(\u001b[49m\n\u001b[1;32m    803\u001b[0m \u001b[43m                                           \u001b[49m\u001b[43mcand_idx\u001b[49m\u001b[43m,\u001b[49m\n\u001b[1;32m    804\u001b[0m \u001b[43m                                           \u001b[49m\u001b[43mn_candidates\u001b[49m\u001b[43m)\u001b[49m\u001b[43m,\u001b[49m\n\u001b[1;32m    805\u001b[0m \u001b[43m                                       \u001b[49m\u001b[38;5;241;43m*\u001b[39;49m\u001b[38;5;241;43m*\u001b[39;49m\u001b[43mfit_and_score_kwargs\u001b[49m\u001b[43m)\u001b[49m\n\u001b[1;32m    806\u001b[0m \u001b[43m               \u001b[49m\u001b[38;5;28;43;01mfor\u001b[39;49;00m\u001b[43m \u001b[49m\u001b[43m(\u001b[49m\u001b[43mcand_idx\u001b[49m\u001b[43m,\u001b[49m\u001b[43m \u001b[49m\u001b[43mparameters\u001b[49m\u001b[43m)\u001b[49m\u001b[43m,\u001b[49m\n\u001b[1;32m    807\u001b[0m \u001b[43m                   \u001b[49m\u001b[43m(\u001b[49m\u001b[43msplit_idx\u001b[49m\u001b[43m,\u001b[49m\u001b[43m \u001b[49m\u001b[43m(\u001b[49m\u001b[43mtrain\u001b[49m\u001b[43m,\u001b[49m\u001b[43m \u001b[49m\u001b[43mtest\u001b[49m\u001b[43m)\u001b[49m\u001b[43m)\u001b[49m\u001b[43m \u001b[49m\u001b[38;5;129;43;01min\u001b[39;49;00m\u001b[43m \u001b[49m\u001b[43mproduct\u001b[49m\u001b[43m(\u001b[49m\n\u001b[1;32m    808\u001b[0m \u001b[43m                   \u001b[49m\u001b[38;5;28;43menumerate\u001b[39;49m\u001b[43m(\u001b[49m\u001b[43mcandidate_params\u001b[49m\u001b[43m)\u001b[49m\u001b[43m,\u001b[49m\n\u001b[1;32m    809\u001b[0m \u001b[43m                   \u001b[49m\u001b[38;5;28;43menumerate\u001b[39;49m\u001b[43m(\u001b[49m\u001b[43mcv\u001b[49m\u001b[38;5;241;43m.\u001b[39;49m\u001b[43msplit\u001b[49m\u001b[43m(\u001b[49m\u001b[43mX\u001b[49m\u001b[43m,\u001b[49m\u001b[43m \u001b[49m\u001b[43my\u001b[49m\u001b[43m,\u001b[49m\u001b[43m \u001b[49m\u001b[43mgroups\u001b[49m\u001b[43m)\u001b[49m\u001b[43m)\u001b[49m\u001b[43m)\u001b[49m\u001b[43m)\u001b[49m\n\u001b[1;32m    811\u001b[0m \u001b[38;5;28;01mif\u001b[39;00m \u001b[38;5;28mlen\u001b[39m(out) \u001b[38;5;241m<\u001b[39m \u001b[38;5;241m1\u001b[39m:\n\u001b[1;32m    812\u001b[0m     \u001b[38;5;28;01mraise\u001b[39;00m \u001b[38;5;167;01mValueError\u001b[39;00m(\u001b[38;5;124m'\u001b[39m\u001b[38;5;124mNo fits were performed. \u001b[39m\u001b[38;5;124m'\u001b[39m\n\u001b[1;32m    813\u001b[0m                      \u001b[38;5;124m'\u001b[39m\u001b[38;5;124mWas the CV iterator empty? \u001b[39m\u001b[38;5;124m'\u001b[39m\n\u001b[1;32m    814\u001b[0m                      \u001b[38;5;124m'\u001b[39m\u001b[38;5;124mWere there no candidates?\u001b[39m\u001b[38;5;124m'\u001b[39m)\n",
      "File \u001b[0;32m/opt/conda/envs/python3/lib/python3.9/site-packages/joblib/parallel.py:1918\u001b[0m, in \u001b[0;36mParallel.__call__\u001b[0;34m(self, iterable)\u001b[0m\n\u001b[1;32m   1916\u001b[0m     output \u001b[38;5;241m=\u001b[39m \u001b[38;5;28mself\u001b[39m\u001b[38;5;241m.\u001b[39m_get_sequential_output(iterable)\n\u001b[1;32m   1917\u001b[0m     \u001b[38;5;28mnext\u001b[39m(output)\n\u001b[0;32m-> 1918\u001b[0m     \u001b[38;5;28;01mreturn\u001b[39;00m output \u001b[38;5;28;01mif\u001b[39;00m \u001b[38;5;28mself\u001b[39m\u001b[38;5;241m.\u001b[39mreturn_generator \u001b[38;5;28;01melse\u001b[39;00m \u001b[38;5;28;43mlist\u001b[39;49m\u001b[43m(\u001b[49m\u001b[43moutput\u001b[49m\u001b[43m)\u001b[49m\n\u001b[1;32m   1920\u001b[0m \u001b[38;5;66;03m# Let's create an ID that uniquely identifies the current call. If the\u001b[39;00m\n\u001b[1;32m   1921\u001b[0m \u001b[38;5;66;03m# call is interrupted early and that the same instance is immediately\u001b[39;00m\n\u001b[1;32m   1922\u001b[0m \u001b[38;5;66;03m# re-used, this id will be used to prevent workers that were\u001b[39;00m\n\u001b[1;32m   1923\u001b[0m \u001b[38;5;66;03m# concurrently finalizing a task from the previous call to run the\u001b[39;00m\n\u001b[1;32m   1924\u001b[0m \u001b[38;5;66;03m# callback.\u001b[39;00m\n\u001b[1;32m   1925\u001b[0m \u001b[38;5;28;01mwith\u001b[39;00m \u001b[38;5;28mself\u001b[39m\u001b[38;5;241m.\u001b[39m_lock:\n",
      "File \u001b[0;32m/opt/conda/envs/python3/lib/python3.9/site-packages/joblib/parallel.py:1847\u001b[0m, in \u001b[0;36mParallel._get_sequential_output\u001b[0;34m(self, iterable)\u001b[0m\n\u001b[1;32m   1845\u001b[0m \u001b[38;5;28mself\u001b[39m\u001b[38;5;241m.\u001b[39mn_dispatched_batches \u001b[38;5;241m+\u001b[39m\u001b[38;5;241m=\u001b[39m \u001b[38;5;241m1\u001b[39m\n\u001b[1;32m   1846\u001b[0m \u001b[38;5;28mself\u001b[39m\u001b[38;5;241m.\u001b[39mn_dispatched_tasks \u001b[38;5;241m+\u001b[39m\u001b[38;5;241m=\u001b[39m \u001b[38;5;241m1\u001b[39m\n\u001b[0;32m-> 1847\u001b[0m res \u001b[38;5;241m=\u001b[39m \u001b[43mfunc\u001b[49m\u001b[43m(\u001b[49m\u001b[38;5;241;43m*\u001b[39;49m\u001b[43margs\u001b[49m\u001b[43m,\u001b[49m\u001b[43m \u001b[49m\u001b[38;5;241;43m*\u001b[39;49m\u001b[38;5;241;43m*\u001b[39;49m\u001b[43mkwargs\u001b[49m\u001b[43m)\u001b[49m\n\u001b[1;32m   1848\u001b[0m \u001b[38;5;28mself\u001b[39m\u001b[38;5;241m.\u001b[39mn_completed_tasks \u001b[38;5;241m+\u001b[39m\u001b[38;5;241m=\u001b[39m \u001b[38;5;241m1\u001b[39m\n\u001b[1;32m   1849\u001b[0m \u001b[38;5;28mself\u001b[39m\u001b[38;5;241m.\u001b[39mprint_progress()\n",
      "File \u001b[0;32m/opt/conda/envs/python3/lib/python3.9/site-packages/sklearn/utils/fixes.py:222\u001b[0m, in \u001b[0;36m_FuncWrapper.__call__\u001b[0;34m(self, *args, **kwargs)\u001b[0m\n\u001b[1;32m    220\u001b[0m \u001b[38;5;28;01mdef\u001b[39;00m \u001b[38;5;21m__call__\u001b[39m(\u001b[38;5;28mself\u001b[39m, \u001b[38;5;241m*\u001b[39margs, \u001b[38;5;241m*\u001b[39m\u001b[38;5;241m*\u001b[39mkwargs):\n\u001b[1;32m    221\u001b[0m     \u001b[38;5;28;01mwith\u001b[39;00m config_context(\u001b[38;5;241m*\u001b[39m\u001b[38;5;241m*\u001b[39m\u001b[38;5;28mself\u001b[39m\u001b[38;5;241m.\u001b[39mconfig):\n\u001b[0;32m--> 222\u001b[0m         \u001b[38;5;28;01mreturn\u001b[39;00m \u001b[38;5;28;43mself\u001b[39;49m\u001b[38;5;241;43m.\u001b[39;49m\u001b[43mfunction\u001b[49m\u001b[43m(\u001b[49m\u001b[38;5;241;43m*\u001b[39;49m\u001b[43margs\u001b[49m\u001b[43m,\u001b[49m\u001b[43m \u001b[49m\u001b[38;5;241;43m*\u001b[39;49m\u001b[38;5;241;43m*\u001b[39;49m\u001b[43mkwargs\u001b[49m\u001b[43m)\u001b[49m\n",
      "File \u001b[0;32m/opt/conda/envs/python3/lib/python3.9/site-packages/sklearn/model_selection/_validation.py:593\u001b[0m, in \u001b[0;36m_fit_and_score\u001b[0;34m(estimator, X, y, scorer, train, test, verbose, parameters, fit_params, return_train_score, return_parameters, return_n_test_samples, return_times, return_estimator, split_progress, candidate_progress, error_score)\u001b[0m\n\u001b[1;32m    591\u001b[0m         estimator\u001b[38;5;241m.\u001b[39mfit(X_train, \u001b[38;5;241m*\u001b[39m\u001b[38;5;241m*\u001b[39mfit_params)\n\u001b[1;32m    592\u001b[0m     \u001b[38;5;28;01melse\u001b[39;00m:\n\u001b[0;32m--> 593\u001b[0m         \u001b[43mestimator\u001b[49m\u001b[38;5;241;43m.\u001b[39;49m\u001b[43mfit\u001b[49m\u001b[43m(\u001b[49m\u001b[43mX_train\u001b[49m\u001b[43m,\u001b[49m\u001b[43m \u001b[49m\u001b[43my_train\u001b[49m\u001b[43m,\u001b[49m\u001b[43m \u001b[49m\u001b[38;5;241;43m*\u001b[39;49m\u001b[38;5;241;43m*\u001b[39;49m\u001b[43mfit_params\u001b[49m\u001b[43m)\u001b[49m\n\u001b[1;32m    595\u001b[0m \u001b[38;5;28;01mexcept\u001b[39;00m \u001b[38;5;167;01mException\u001b[39;00m \u001b[38;5;28;01mas\u001b[39;00m e:\n\u001b[1;32m    596\u001b[0m     \u001b[38;5;66;03m# Note fit time as time until error\u001b[39;00m\n\u001b[1;32m    597\u001b[0m     fit_time \u001b[38;5;241m=\u001b[39m time\u001b[38;5;241m.\u001b[39mtime() \u001b[38;5;241m-\u001b[39m start_time\n",
      "File \u001b[0;32m/opt/conda/envs/python3/lib/python3.9/site-packages/sklearn/ensemble/_forest.py:387\u001b[0m, in \u001b[0;36mBaseForest.fit\u001b[0;34m(self, X, y, sample_weight)\u001b[0m\n\u001b[1;32m    377\u001b[0m trees \u001b[38;5;241m=\u001b[39m [\u001b[38;5;28mself\u001b[39m\u001b[38;5;241m.\u001b[39m_make_estimator(append\u001b[38;5;241m=\u001b[39m\u001b[38;5;28;01mFalse\u001b[39;00m,\n\u001b[1;32m    378\u001b[0m                               random_state\u001b[38;5;241m=\u001b[39mrandom_state)\n\u001b[1;32m    379\u001b[0m          \u001b[38;5;28;01mfor\u001b[39;00m i \u001b[38;5;129;01min\u001b[39;00m \u001b[38;5;28mrange\u001b[39m(n_more_estimators)]\n\u001b[1;32m    381\u001b[0m \u001b[38;5;66;03m# Parallel loop: we prefer the threading backend as the Cython code\u001b[39;00m\n\u001b[1;32m    382\u001b[0m \u001b[38;5;66;03m# for fitting the trees is internally releasing the Python GIL\u001b[39;00m\n\u001b[1;32m    383\u001b[0m \u001b[38;5;66;03m# making threading more efficient than multiprocessing in\u001b[39;00m\n\u001b[1;32m    384\u001b[0m \u001b[38;5;66;03m# that case. However, for joblib 0.12+ we respect any\u001b[39;00m\n\u001b[1;32m    385\u001b[0m \u001b[38;5;66;03m# parallel_backend contexts set at a higher level,\u001b[39;00m\n\u001b[1;32m    386\u001b[0m \u001b[38;5;66;03m# since correctness does not rely on using threads.\u001b[39;00m\n\u001b[0;32m--> 387\u001b[0m trees \u001b[38;5;241m=\u001b[39m \u001b[43mParallel\u001b[49m\u001b[43m(\u001b[49m\u001b[43mn_jobs\u001b[49m\u001b[38;5;241;43m=\u001b[39;49m\u001b[38;5;28;43mself\u001b[39;49m\u001b[38;5;241;43m.\u001b[39;49m\u001b[43mn_jobs\u001b[49m\u001b[43m,\u001b[49m\u001b[43m \u001b[49m\u001b[43mverbose\u001b[49m\u001b[38;5;241;43m=\u001b[39;49m\u001b[38;5;28;43mself\u001b[39;49m\u001b[38;5;241;43m.\u001b[39;49m\u001b[43mverbose\u001b[49m\u001b[43m,\u001b[49m\n\u001b[1;32m    388\u001b[0m \u001b[43m                 \u001b[49m\u001b[38;5;241;43m*\u001b[39;49m\u001b[38;5;241;43m*\u001b[39;49m\u001b[43m_joblib_parallel_args\u001b[49m\u001b[43m(\u001b[49m\u001b[43mprefer\u001b[49m\u001b[38;5;241;43m=\u001b[39;49m\u001b[38;5;124;43m'\u001b[39;49m\u001b[38;5;124;43mthreads\u001b[39;49m\u001b[38;5;124;43m'\u001b[39;49m\u001b[43m)\u001b[49m\u001b[43m)\u001b[49m\u001b[43m(\u001b[49m\n\u001b[1;32m    389\u001b[0m \u001b[43m    \u001b[49m\u001b[43mdelayed\u001b[49m\u001b[43m(\u001b[49m\u001b[43m_parallel_build_trees\u001b[49m\u001b[43m)\u001b[49m\u001b[43m(\u001b[49m\n\u001b[1;32m    390\u001b[0m \u001b[43m        \u001b[49m\u001b[43mt\u001b[49m\u001b[43m,\u001b[49m\u001b[43m \u001b[49m\u001b[38;5;28;43mself\u001b[39;49m\u001b[43m,\u001b[49m\u001b[43m \u001b[49m\u001b[43mX\u001b[49m\u001b[43m,\u001b[49m\u001b[43m \u001b[49m\u001b[43my\u001b[49m\u001b[43m,\u001b[49m\u001b[43m \u001b[49m\u001b[43msample_weight\u001b[49m\u001b[43m,\u001b[49m\u001b[43m \u001b[49m\u001b[43mi\u001b[49m\u001b[43m,\u001b[49m\u001b[43m \u001b[49m\u001b[38;5;28;43mlen\u001b[39;49m\u001b[43m(\u001b[49m\u001b[43mtrees\u001b[49m\u001b[43m)\u001b[49m\u001b[43m,\u001b[49m\n\u001b[1;32m    391\u001b[0m \u001b[43m        \u001b[49m\u001b[43mverbose\u001b[49m\u001b[38;5;241;43m=\u001b[39;49m\u001b[38;5;28;43mself\u001b[39;49m\u001b[38;5;241;43m.\u001b[39;49m\u001b[43mverbose\u001b[49m\u001b[43m,\u001b[49m\u001b[43m \u001b[49m\u001b[43mclass_weight\u001b[49m\u001b[38;5;241;43m=\u001b[39;49m\u001b[38;5;28;43mself\u001b[39;49m\u001b[38;5;241;43m.\u001b[39;49m\u001b[43mclass_weight\u001b[49m\u001b[43m,\u001b[49m\n\u001b[1;32m    392\u001b[0m \u001b[43m        \u001b[49m\u001b[43mn_samples_bootstrap\u001b[49m\u001b[38;5;241;43m=\u001b[39;49m\u001b[43mn_samples_bootstrap\u001b[49m\u001b[43m)\u001b[49m\n\u001b[1;32m    393\u001b[0m \u001b[43m    \u001b[49m\u001b[38;5;28;43;01mfor\u001b[39;49;00m\u001b[43m \u001b[49m\u001b[43mi\u001b[49m\u001b[43m,\u001b[49m\u001b[43m \u001b[49m\u001b[43mt\u001b[49m\u001b[43m \u001b[49m\u001b[38;5;129;43;01min\u001b[39;49;00m\u001b[43m \u001b[49m\u001b[38;5;28;43menumerate\u001b[39;49m\u001b[43m(\u001b[49m\u001b[43mtrees\u001b[49m\u001b[43m)\u001b[49m\u001b[43m)\u001b[49m\n\u001b[1;32m    395\u001b[0m \u001b[38;5;66;03m# Collect newly grown trees\u001b[39;00m\n\u001b[1;32m    396\u001b[0m \u001b[38;5;28mself\u001b[39m\u001b[38;5;241m.\u001b[39mestimators_\u001b[38;5;241m.\u001b[39mextend(trees)\n",
      "File \u001b[0;32m/opt/conda/envs/python3/lib/python3.9/site-packages/joblib/parallel.py:1918\u001b[0m, in \u001b[0;36mParallel.__call__\u001b[0;34m(self, iterable)\u001b[0m\n\u001b[1;32m   1916\u001b[0m     output \u001b[38;5;241m=\u001b[39m \u001b[38;5;28mself\u001b[39m\u001b[38;5;241m.\u001b[39m_get_sequential_output(iterable)\n\u001b[1;32m   1917\u001b[0m     \u001b[38;5;28mnext\u001b[39m(output)\n\u001b[0;32m-> 1918\u001b[0m     \u001b[38;5;28;01mreturn\u001b[39;00m output \u001b[38;5;28;01mif\u001b[39;00m \u001b[38;5;28mself\u001b[39m\u001b[38;5;241m.\u001b[39mreturn_generator \u001b[38;5;28;01melse\u001b[39;00m \u001b[38;5;28;43mlist\u001b[39;49m\u001b[43m(\u001b[49m\u001b[43moutput\u001b[49m\u001b[43m)\u001b[49m\n\u001b[1;32m   1920\u001b[0m \u001b[38;5;66;03m# Let's create an ID that uniquely identifies the current call. If the\u001b[39;00m\n\u001b[1;32m   1921\u001b[0m \u001b[38;5;66;03m# call is interrupted early and that the same instance is immediately\u001b[39;00m\n\u001b[1;32m   1922\u001b[0m \u001b[38;5;66;03m# re-used, this id will be used to prevent workers that were\u001b[39;00m\n\u001b[1;32m   1923\u001b[0m \u001b[38;5;66;03m# concurrently finalizing a task from the previous call to run the\u001b[39;00m\n\u001b[1;32m   1924\u001b[0m \u001b[38;5;66;03m# callback.\u001b[39;00m\n\u001b[1;32m   1925\u001b[0m \u001b[38;5;28;01mwith\u001b[39;00m \u001b[38;5;28mself\u001b[39m\u001b[38;5;241m.\u001b[39m_lock:\n",
      "File \u001b[0;32m/opt/conda/envs/python3/lib/python3.9/site-packages/joblib/parallel.py:1847\u001b[0m, in \u001b[0;36mParallel._get_sequential_output\u001b[0;34m(self, iterable)\u001b[0m\n\u001b[1;32m   1845\u001b[0m \u001b[38;5;28mself\u001b[39m\u001b[38;5;241m.\u001b[39mn_dispatched_batches \u001b[38;5;241m+\u001b[39m\u001b[38;5;241m=\u001b[39m \u001b[38;5;241m1\u001b[39m\n\u001b[1;32m   1846\u001b[0m \u001b[38;5;28mself\u001b[39m\u001b[38;5;241m.\u001b[39mn_dispatched_tasks \u001b[38;5;241m+\u001b[39m\u001b[38;5;241m=\u001b[39m \u001b[38;5;241m1\u001b[39m\n\u001b[0;32m-> 1847\u001b[0m res \u001b[38;5;241m=\u001b[39m \u001b[43mfunc\u001b[49m\u001b[43m(\u001b[49m\u001b[38;5;241;43m*\u001b[39;49m\u001b[43margs\u001b[49m\u001b[43m,\u001b[49m\u001b[43m \u001b[49m\u001b[38;5;241;43m*\u001b[39;49m\u001b[38;5;241;43m*\u001b[39;49m\u001b[43mkwargs\u001b[49m\u001b[43m)\u001b[49m\n\u001b[1;32m   1848\u001b[0m \u001b[38;5;28mself\u001b[39m\u001b[38;5;241m.\u001b[39mn_completed_tasks \u001b[38;5;241m+\u001b[39m\u001b[38;5;241m=\u001b[39m \u001b[38;5;241m1\u001b[39m\n\u001b[1;32m   1849\u001b[0m \u001b[38;5;28mself\u001b[39m\u001b[38;5;241m.\u001b[39mprint_progress()\n",
      "File \u001b[0;32m/opt/conda/envs/python3/lib/python3.9/site-packages/sklearn/utils/fixes.py:222\u001b[0m, in \u001b[0;36m_FuncWrapper.__call__\u001b[0;34m(self, *args, **kwargs)\u001b[0m\n\u001b[1;32m    220\u001b[0m \u001b[38;5;28;01mdef\u001b[39;00m \u001b[38;5;21m__call__\u001b[39m(\u001b[38;5;28mself\u001b[39m, \u001b[38;5;241m*\u001b[39margs, \u001b[38;5;241m*\u001b[39m\u001b[38;5;241m*\u001b[39mkwargs):\n\u001b[1;32m    221\u001b[0m     \u001b[38;5;28;01mwith\u001b[39;00m config_context(\u001b[38;5;241m*\u001b[39m\u001b[38;5;241m*\u001b[39m\u001b[38;5;28mself\u001b[39m\u001b[38;5;241m.\u001b[39mconfig):\n\u001b[0;32m--> 222\u001b[0m         \u001b[38;5;28;01mreturn\u001b[39;00m \u001b[38;5;28;43mself\u001b[39;49m\u001b[38;5;241;43m.\u001b[39;49m\u001b[43mfunction\u001b[49m\u001b[43m(\u001b[49m\u001b[38;5;241;43m*\u001b[39;49m\u001b[43margs\u001b[49m\u001b[43m,\u001b[49m\u001b[43m \u001b[49m\u001b[38;5;241;43m*\u001b[39;49m\u001b[38;5;241;43m*\u001b[39;49m\u001b[43mkwargs\u001b[49m\u001b[43m)\u001b[49m\n",
      "File \u001b[0;32m/opt/conda/envs/python3/lib/python3.9/site-packages/sklearn/ensemble/_forest.py:169\u001b[0m, in \u001b[0;36m_parallel_build_trees\u001b[0;34m(tree, forest, X, y, sample_weight, tree_idx, n_trees, verbose, class_weight, n_samples_bootstrap)\u001b[0m\n\u001b[1;32m    165\u001b[0m     \u001b[38;5;28;01melif\u001b[39;00m class_weight \u001b[38;5;241m==\u001b[39m \u001b[38;5;124m'\u001b[39m\u001b[38;5;124mbalanced_subsample\u001b[39m\u001b[38;5;124m'\u001b[39m:\n\u001b[1;32m    166\u001b[0m         curr_sample_weight \u001b[38;5;241m*\u001b[39m\u001b[38;5;241m=\u001b[39m compute_sample_weight(\u001b[38;5;124m'\u001b[39m\u001b[38;5;124mbalanced\u001b[39m\u001b[38;5;124m'\u001b[39m, y,\n\u001b[1;32m    167\u001b[0m                                                     indices\u001b[38;5;241m=\u001b[39mindices)\n\u001b[0;32m--> 169\u001b[0m     \u001b[43mtree\u001b[49m\u001b[38;5;241;43m.\u001b[39;49m\u001b[43mfit\u001b[49m\u001b[43m(\u001b[49m\u001b[43mX\u001b[49m\u001b[43m,\u001b[49m\u001b[43m \u001b[49m\u001b[43my\u001b[49m\u001b[43m,\u001b[49m\u001b[43m \u001b[49m\u001b[43msample_weight\u001b[49m\u001b[38;5;241;43m=\u001b[39;49m\u001b[43mcurr_sample_weight\u001b[49m\u001b[43m,\u001b[49m\u001b[43m \u001b[49m\u001b[43mcheck_input\u001b[49m\u001b[38;5;241;43m=\u001b[39;49m\u001b[38;5;28;43;01mFalse\u001b[39;49;00m\u001b[43m)\u001b[49m\n\u001b[1;32m    170\u001b[0m \u001b[38;5;28;01melse\u001b[39;00m:\n\u001b[1;32m    171\u001b[0m     tree\u001b[38;5;241m.\u001b[39mfit(X, y, sample_weight\u001b[38;5;241m=\u001b[39msample_weight, check_input\u001b[38;5;241m=\u001b[39m\u001b[38;5;28;01mFalse\u001b[39;00m)\n",
      "File \u001b[0;32m/opt/conda/envs/python3/lib/python3.9/site-packages/sklearn/tree/_classes.py:898\u001b[0m, in \u001b[0;36mDecisionTreeClassifier.fit\u001b[0;34m(self, X, y, sample_weight, check_input, X_idx_sorted)\u001b[0m\n\u001b[1;32m    861\u001b[0m \u001b[38;5;28;01mdef\u001b[39;00m \u001b[38;5;21mfit\u001b[39m(\u001b[38;5;28mself\u001b[39m, X, y, sample_weight\u001b[38;5;241m=\u001b[39m\u001b[38;5;28;01mNone\u001b[39;00m, check_input\u001b[38;5;241m=\u001b[39m\u001b[38;5;28;01mTrue\u001b[39;00m,\n\u001b[1;32m    862\u001b[0m         X_idx_sorted\u001b[38;5;241m=\u001b[39m\u001b[38;5;124m\"\u001b[39m\u001b[38;5;124mdeprecated\u001b[39m\u001b[38;5;124m\"\u001b[39m):\n\u001b[1;32m    863\u001b[0m \u001b[38;5;250m    \u001b[39m\u001b[38;5;124;03m\"\"\"Build a decision tree classifier from the training set (X, y).\u001b[39;00m\n\u001b[1;32m    864\u001b[0m \n\u001b[1;32m    865\u001b[0m \u001b[38;5;124;03m    Parameters\u001b[39;00m\n\u001b[0;32m   (...)\u001b[0m\n\u001b[1;32m    895\u001b[0m \u001b[38;5;124;03m        Fitted estimator.\u001b[39;00m\n\u001b[1;32m    896\u001b[0m \u001b[38;5;124;03m    \"\"\"\u001b[39;00m\n\u001b[0;32m--> 898\u001b[0m     \u001b[38;5;28;43msuper\u001b[39;49m\u001b[43m(\u001b[49m\u001b[43m)\u001b[49m\u001b[38;5;241;43m.\u001b[39;49m\u001b[43mfit\u001b[49m\u001b[43m(\u001b[49m\n\u001b[1;32m    899\u001b[0m \u001b[43m        \u001b[49m\u001b[43mX\u001b[49m\u001b[43m,\u001b[49m\u001b[43m \u001b[49m\u001b[43my\u001b[49m\u001b[43m,\u001b[49m\n\u001b[1;32m    900\u001b[0m \u001b[43m        \u001b[49m\u001b[43msample_weight\u001b[49m\u001b[38;5;241;43m=\u001b[39;49m\u001b[43msample_weight\u001b[49m\u001b[43m,\u001b[49m\n\u001b[1;32m    901\u001b[0m \u001b[43m        \u001b[49m\u001b[43mcheck_input\u001b[49m\u001b[38;5;241;43m=\u001b[39;49m\u001b[43mcheck_input\u001b[49m\u001b[43m,\u001b[49m\n\u001b[1;32m    902\u001b[0m \u001b[43m        \u001b[49m\u001b[43mX_idx_sorted\u001b[49m\u001b[38;5;241;43m=\u001b[39;49m\u001b[43mX_idx_sorted\u001b[49m\u001b[43m)\u001b[49m\n\u001b[1;32m    903\u001b[0m     \u001b[38;5;28;01mreturn\u001b[39;00m \u001b[38;5;28mself\u001b[39m\n",
      "File \u001b[0;32m/opt/conda/envs/python3/lib/python3.9/site-packages/sklearn/tree/_classes.py:389\u001b[0m, in \u001b[0;36mBaseDecisionTree.fit\u001b[0;34m(self, X, y, sample_weight, check_input, X_idx_sorted)\u001b[0m\n\u001b[1;32m    380\u001b[0m \u001b[38;5;28;01melse\u001b[39;00m:\n\u001b[1;32m    381\u001b[0m     builder \u001b[38;5;241m=\u001b[39m BestFirstTreeBuilder(splitter, min_samples_split,\n\u001b[1;32m    382\u001b[0m                                    min_samples_leaf,\n\u001b[1;32m    383\u001b[0m                                    min_weight_leaf,\n\u001b[0;32m   (...)\u001b[0m\n\u001b[1;32m    386\u001b[0m                                    \u001b[38;5;28mself\u001b[39m\u001b[38;5;241m.\u001b[39mmin_impurity_decrease,\n\u001b[1;32m    387\u001b[0m                                    min_impurity_split)\n\u001b[0;32m--> 389\u001b[0m \u001b[43mbuilder\u001b[49m\u001b[38;5;241;43m.\u001b[39;49m\u001b[43mbuild\u001b[49m\u001b[43m(\u001b[49m\u001b[38;5;28;43mself\u001b[39;49m\u001b[38;5;241;43m.\u001b[39;49m\u001b[43mtree_\u001b[49m\u001b[43m,\u001b[49m\u001b[43m \u001b[49m\u001b[43mX\u001b[49m\u001b[43m,\u001b[49m\u001b[43m \u001b[49m\u001b[43my\u001b[49m\u001b[43m,\u001b[49m\u001b[43m \u001b[49m\u001b[43msample_weight\u001b[49m\u001b[43m)\u001b[49m\n\u001b[1;32m    391\u001b[0m \u001b[38;5;28;01mif\u001b[39;00m \u001b[38;5;28mself\u001b[39m\u001b[38;5;241m.\u001b[39mn_outputs_ \u001b[38;5;241m==\u001b[39m \u001b[38;5;241m1\u001b[39m \u001b[38;5;129;01mand\u001b[39;00m is_classifier(\u001b[38;5;28mself\u001b[39m):\n\u001b[1;32m    392\u001b[0m     \u001b[38;5;28mself\u001b[39m\u001b[38;5;241m.\u001b[39mn_classes_ \u001b[38;5;241m=\u001b[39m \u001b[38;5;28mself\u001b[39m\u001b[38;5;241m.\u001b[39mn_classes_[\u001b[38;5;241m0\u001b[39m]\n",
      "\u001b[0;31mKeyboardInterrupt\u001b[0m: "
     ]
    }
   ],
   "source": [
    "from sklearn.model_selection import GridSearchCV\n",
    "\n",
    "# Defining parameter grids for tuning\n",
    "param_grid_gb = {\n",
    "    'n_estimators': [50, 100],\n",
    "    'learning_rate': [0.1,0.2],\n",
    "    'max_depth': [3, 5]\n",
    "}\n",
    "\n",
    "param_grid_rf = {\n",
    "    'n_estimators': [50, 100],\n",
    "    'max_depth': [None, 10],\n",
    "    'min_samples_split': [2, 5]\n",
    "}\n",
    "\n",
    "# Initializing models\n",
    "gradient_boost = GradientBoostingClassifier()\n",
    "random_forest = RandomForestClassifier()\n",
    "\n",
    "# GridSearchCV for Gradient Boosting\n",
    "grid_search_gb = GridSearchCV(estimator=gradient_boost, param_grid=param_grid_gb, scoring='f1', cv=3, n_jobs=-1, verbose=2)\n",
    "grid_search_gb.fit(X_train_tfidf, y_train)\n",
    "\n",
    "# GridSearchCV for Random Forest\n",
    "grid_search_rf = GridSearchCV(estimator=random_forest, param_grid=param_grid_rf, scoring='f1', cv=3, n_jobs=-1, verbose=2)\n",
    "grid_search_rf.fit(X_train_tfidf, y_train)\n",
    "\n",
    "# Best parameters and best score\n",
    "print(\"Best parameters for Gradient Boosting:\", grid_search_gb.best_params_)\n",
    "print(\"Best F1 score for Gradient Boosting:\", grid_search_gb.best_score_)\n",
    "\n",
    "print(\"Best parameters for Random Forest:\", grid_search_rf.best_params_)\n",
    "print(\"Best F1 score for Random Forest:\", grid_search_rf.best_score_)\n",
    "\n",
    "# Evaluating on the test set\n",
    "y_pred_gb_tuned = grid_search_gb.best_estimator_.predict(X_test_tfidf)\n",
    "y_pred_rf_tuned = grid_search_rf.best_estimator_.predict(X_test_tfidf)\n",
    "\n",
    "print(\"Tuned Gradient Boosting:\\n\", classification_report(y_test, y_pred_gb_tuned))\n",
    "print(\"Tuned Random Forest:\\n\", classification_report(y_test, y_pred_rf_tuned))\n",
    "\n",
    "# Calculating F1 scores\n",
    "f1_gb_tuned = f1_score(y_test, y_pred_gb_tuned)\n",
    "f1_rf_tuned = f1_score(y_test, y_pred_rf_tuned)\n",
    "\n",
    "print(f\"F1 Score Tuned Gradient Boosting: {f1_gb_tuned}\")\n",
    "print(f\"F1 Score Tuned Random Forest: {f1_rf_tuned}\")"
   ]
  },
  {
   "cell_type": "markdown",
   "id": "53304e59",
   "metadata": {},
   "source": [
    "Both parameter tuned models, random forest and gradent boost standard did worse than linear regression so I will try XGBoost, CatBoost and LightGBM"
   ]
  },
  {
   "cell_type": "code",
   "execution_count": null,
   "id": "0245fc5a",
   "metadata": {},
   "outputs": [],
   "source": [
    "import xgboost as xgb\n",
    "from sklearn.metrics import classification_report, f1_score\n",
    "\n",
    "# Initialize and train XGBoost model\n",
    "xgb_model = xgb.XGBClassifier(use_label_encoder=False, eval_metric='logloss')\n",
    "xgb_model.fit(X_train_tfidf, y_train)\n",
    "\n",
    "# Predict using XGBoost model\n",
    "y_pred_xgb = xgb_model.predict(X_test_tfidf)\n",
    "\n",
    "# Evaluate XGBoost model\n",
    "print(\"XGBoost:\\n\", classification_report(y_test, y_pred_xgb))\n",
    "f1_xgb = f1_score(y_test, y_pred_xgb)\n",
    "print(f\"F1 Score XGBoost: {f1_xgb}\")\n"
   ]
  },
  {
   "cell_type": "code",
   "execution_count": null,
   "id": "0fa5465e",
   "metadata": {},
   "outputs": [],
   "source": [
    "from catboost import CatBoostClassifier\n",
    "\n",
    "# Initialize and train CatBoost model\n",
    "catboost_model = CatBoostClassifier(verbose=0)\n",
    "catboost_model.fit(X_train_tfidf, y_train)\n",
    "\n",
    "# Predict using CatBoost model\n",
    "y_pred_catboost = catboost_model.predict(X_test_tfidf)\n",
    "\n",
    "# Evaluate CatBoost model\n",
    "print(\"CatBoost:\\n\", classification_report(y_test, y_pred_catboost))\n",
    "f1_catboost = f1_score(y_test, y_pred_catboost)\n",
    "print(f\"F1 Score CatBoost: {f1_catboost}\")\n"
   ]
  },
  {
   "cell_type": "code",
   "execution_count": null,
   "id": "43acf212",
   "metadata": {},
   "outputs": [],
   "source": [
    "import lightgbm as lgb\n",
    "\n",
    "# Initialize and train LightGBM model\n",
    "lgb_model = lgb.LGBMClassifier()\n",
    "lgb_model.fit(X_train_tfidf, y_train)\n",
    "\n",
    "# Predict using LightGBM model\n",
    "y_pred_lgb = lgb_model.predict(X_test_tfidf)\n",
    "\n",
    "# Evaluate LightGBM model\n",
    "print(\"LightGBM:\\n\", classification_report(y_test, y_pred_lgb))\n",
    "f1_lgb = f1_score(y_test, y_pred_lgb)\n",
    "print(f\"F1 Score LightGBM: {f1_lgb}\")\n"
   ]
  },
  {
   "cell_type": "markdown",
   "id": "b3a05433",
   "metadata": {},
   "source": [
    "Gradient Boost Model results:\n",
    "\n",
    "\n",
    "- In this project, we utilized several gradient boosting models, including the classic Gradient Boosting Classifier, XGBoost, CatBoost, and LightGBM, to classify the sentiment of movie reviews. Each model was evaluated based on its F1 score to determine its effectiveness in identifying positive and negative reviews.\n",
    "\n",
    "    - Classic Gradient Boosting: The classic Gradient Boosting model achieved an F1 score of 0.8201. This performance, while respectable, was lower than expected, suggesting the need for further hyperparameter tuning to optimize its results.\n",
    "\n",
    "    - XGBoost: The XGBoost model outperformed the classic Gradient Boosting model with an F1 score of 0.8483. XGBoost's optimizations, such as regularization and efficient handling of missing values, contributed to its improved performance.\n",
    "\n",
    "    - CatBoost: The CatBoost model demonstrated strong performance with an F1 score of 0.8621. CatBoost's ability to handle categorical features natively and its robust default settings likely contributed to its superior results.\n",
    "\n",
    "    - LightGBM: The LightGBM model also performed well, achieving an F1 score of 0.8541. LightGBM's fast training speed and efficient memory usage, along with its ability to handle large datasets, made it a competitive option.\n",
    "\n",
    "Overall, CatBoost emerged as the best-performing gradient boosting model in this project. Its high F1 score indicates its effectiveness in sentiment classification for movie reviews. The results highlight the importance of exploring various implementations of gradient boosting, as different models offer unique strengths and optimizations. Despite the strong performance of gradient boosting models, the Logistic Regression model still outperformed them, demonstrating the value of simplicity and robustness in certain contexts. Further tuning and potential ensemble methods could further enhance the performance of these gradient boosting models."
   ]
  },
  {
   "cell_type": "markdown",
   "id": "4caca62d",
   "metadata": {},
   "source": [
    "## Composing and Classifying a Sample Review \n"
   ]
  },
  {
   "cell_type": "code",
   "execution_count": null,
   "id": "15e5e3ba",
   "metadata": {},
   "outputs": [],
   "source": [
    "# Sample reviews\n",
    "sample_reviews = [\n",
    "    \"I absolutely loved this movie! The plot was thrilling and the characters were well developed.\",\n",
    "    \"The movie was terrible. The plot made no sense and the acting was awful.\",\n",
    "    \"An average movie. Some parts were good, but overall it was just okay.\",\n",
    "    \"Fantastic film! I would highly recommend it to everyone.\",\n",
    "    \"I did not enjoy this movie. It was boring and too long.\"\n",
    "]\n",
    "\n",
    "# Preprocess sample reviews\n",
    "sample_reviews_cleaned = [clean_text(review) for review in sample_reviews]\n",
    "sample_reviews_tfidf = tfidf_vectorizer.transform(sample_reviews_cleaned)\n",
    "\n",
    "# Ensure models are fitted (if not already)\n",
    "if not hasattr(log_reg, \"coef_\"):\n",
    "    log_reg.fit(X_train_tfidf, y_train)\n",
    "\n",
    "if not hasattr(random_forest, \"estimators_\"):\n",
    "    random_forest.fit(X_train_tfidf, y_train)\n",
    "\n",
    "if not hasattr(gradient_boost, \"estimators_\"):\n",
    "    gradient_boost.fit(X_train_tfidf, y_train)\n",
    "\n",
    "# Classify using the selected models\n",
    "log_reg_predictions = log_reg.predict(sample_reviews_tfidf)\n",
    "random_forest_predictions = random_forest.predict(sample_reviews_tfidf)\n",
    "gradient_boost_predictions = gradient_boost.predict(sample_reviews_tfidf)\n",
    "\n",
    "# Print predictions\n",
    "print(\"Sample Reviews:\")\n",
    "for i, review in enumerate(sample_reviews):\n",
    "    print(f\"\\nReview {i+1}: {review}\")\n",
    "    print(f\"Logistic Regression: {'Positive' if log_reg_predictions[i] == 1 else 'Negative'}\")\n",
    "    print(f\"Random Forest: {'Positive' if random_forest_predictions[i] == 1 else 'Negative'}\")\n",
    "    print(f\"Gradient Boosting: {'Positive' if gradient_boost_predictions[i] == 1 else 'Negative'}\")\n"
   ]
  },
  {
   "cell_type": "markdown",
   "id": "5345450a",
   "metadata": {},
   "source": [
    "# Conclusion\n",
    "\n",
    "Conclusion\n",
    "In this project, we trained and evaluated multiple models to classify the sentiment of movie reviews. The models included Logistic Regression, Random Forest, Gradient Boosting, XGBoost, CatBoost, and LightGBM. Among these, Logistic Regression and CatBoost demonstrated the highest performance with F1 scores of 0.8743 and 0.8621, respectively. The Gradient Boosting model, despite being a strong ensemble method, underperformed with an F1 score of 0.8201, likely due to the need for more extensive hyperparameter tuning. The simpler linear model (Logistic Regression) outperformed the ensemble methods, potentially because of its robustness and effectiveness in handling the features derived from TF-IDF vectorization.\n",
    "\n",
    "- Best Gradient Boosting Model: CatBoost with an F1 score of 0.8621.\n",
    "\n",
    "Reason for Logistic Regression Outperformance:\n",
    "\n",
    "- Logistic Regression is less prone to overfitting, especially with high-dimensional sparse data from TF-IDF.\n",
    "- It effectively captures the linear relationship in the data, which might be well-suited for the given text features.\n",
    "\n",
    "\n",
    "Sample Review Results: \n",
    "\n",
    "To further validate our models, we classified five sample reviews using Logistic Regression, Random Forest, and Gradient Boosting. The predictions were as follows:\n",
    "\n",
    "Review 1: \"I absolutely loved this movie! The plot was thrilling and the characters were well developed.\"\n",
    "\n",
    "Logistic Regression: Positive\n",
    "Random Forest: Positive\n",
    "Gradient Boosting: Positive\n",
    "Review 2: \"The movie was terrible. The plot made no sense and the acting was awful.\"\n",
    "\n",
    "Logistic Regression: Negative\n",
    "Random Forest: Negative\n",
    "Gradient Boosting: Negative\n",
    "Review 3: \"An average movie. Some parts were good, but overall it was just okay.\"\n",
    "\n",
    "Logistic Regression: Negative\n",
    "Random Forest: Negative\n",
    "Gradient Boosting: Positive\n",
    "Review 4: \"Fantastic film! I would highly recommend it to everyone.\"\n",
    "\n",
    "Logistic Regression: Positive\n",
    "Random Forest: Positive\n",
    "Gradient Boosting: Positive\n",
    "Review 5: \"I did not enjoy this movie. It was boring and too long.\"\n",
    "\n",
    "Logistic Regression: Negative\n",
    "Random Forest: Negative\n",
    "Gradient Boosting: Negative\n",
    "\n",
    "- The sample review analysis showed that Logistic Regression and Random Forest were consistent in their predictions, aligning with their strong performance metrics. Gradient Boosting had one discrepancy in Review 3, likely due to its sensitivity to certain features within the mixed sentiment of the review. This consistency supports the conclusion that simpler models like Logistic Regression can be highly effective for text classification tasks, particularly when combined with robust feature extraction methods like TF-IDF."
   ]
  }
 ],
 "metadata": {
  "ExecuteTimeLog": [
   {
    "duration": 444,
    "start_time": "2024-06-19T11:50:57.910Z"
   },
   {
    "duration": 1000,
    "start_time": "2024-06-19T11:50:58.358Z"
   },
   {
    "duration": 996,
    "start_time": "2024-06-19T11:50:59.361Z"
   },
   {
    "duration": 41,
    "start_time": "2024-06-19T11:51:00.359Z"
   },
   {
    "duration": 47,
    "start_time": "2024-06-19T11:51:00.405Z"
   },
   {
    "duration": 4,
    "start_time": "2024-06-19T11:51:00.456Z"
   },
   {
    "duration": 190,
    "start_time": "2024-06-19T11:51:00.464Z"
   },
   {
    "duration": 4,
    "start_time": "2024-06-19T11:51:00.657Z"
   },
   {
    "duration": 5,
    "start_time": "2024-06-19T11:51:00.664Z"
   },
   {
    "duration": 118196,
    "start_time": "2024-06-19T11:51:00.672Z"
   },
   {
    "duration": 22,
    "start_time": "2024-06-19T11:52:58.871Z"
   },
   {
    "duration": 4,
    "start_time": "2024-06-19T11:52:58.896Z"
   },
   {
    "duration": 47,
    "start_time": "2024-06-19T11:52:58.903Z"
   },
   {
    "duration": 22,
    "start_time": "2024-06-19T11:52:58.956Z"
   },
   {
    "duration": 11,
    "start_time": "2024-06-19T11:52:58.980Z"
   },
   {
    "duration": 518,
    "start_time": "2024-06-19T11:52:58.994Z"
   },
   {
    "duration": 17,
    "start_time": "2024-06-19T11:52:59.515Z"
   },
   {
    "duration": 185,
    "start_time": "2024-06-19T11:52:59.534Z"
   },
   {
    "duration": 21,
    "start_time": "2024-06-19T11:52:59.722Z"
   },
   {
    "duration": 8,
    "start_time": "2024-06-19T11:52:59.746Z"
   },
   {
    "duration": 474,
    "start_time": "2024-06-19T11:52:59.757Z"
   },
   {
    "duration": 3,
    "start_time": "2024-06-19T11:53:00.234Z"
   },
   {
    "duration": 4,
    "start_time": "2024-06-19T11:53:00.240Z"
   },
   {
    "duration": 5,
    "start_time": "2024-06-19T11:53:00.248Z"
   },
   {
    "duration": 8369,
    "start_time": "2024-06-19T11:53:00.255Z"
   },
   {
    "duration": 4,
    "start_time": "2024-06-19T11:53:08.627Z"
   },
   {
    "duration": 4,
    "start_time": "2024-06-19T11:53:08.635Z"
   },
   {
    "duration": 4,
    "start_time": "2024-06-19T11:53:08.642Z"
   },
   {
    "duration": 1788,
    "start_time": "2024-06-19T11:53:08.649Z"
   },
   {
    "duration": 87,
    "start_time": "2024-06-19T11:53:10.443Z"
   },
   {
    "duration": 108,
    "start_time": "2024-06-19T11:53:10.539Z"
   },
   {
    "duration": 14,
    "start_time": "2024-06-19T11:53:10.650Z"
   },
   {
    "duration": 1814795,
    "start_time": "2024-06-19T11:53:10.667Z"
   },
   {
    "duration": 149592,
    "start_time": "2024-06-19T12:23:25.466Z"
   },
   {
    "duration": 1287,
    "start_time": "2024-06-19T12:33:44.984Z"
   },
   {
    "duration": 316,
    "start_time": "2024-06-19T20:36:24.614Z"
   },
   {
    "duration": 0,
    "start_time": "2024-06-19T20:36:24.934Z"
   },
   {
    "duration": 0,
    "start_time": "2024-06-19T20:36:24.936Z"
   },
   {
    "duration": 0,
    "start_time": "2024-06-19T20:36:24.939Z"
   },
   {
    "duration": 0,
    "start_time": "2024-06-19T20:36:24.941Z"
   },
   {
    "duration": 0,
    "start_time": "2024-06-19T20:36:24.944Z"
   },
   {
    "duration": 0,
    "start_time": "2024-06-19T20:36:24.946Z"
   },
   {
    "duration": 0,
    "start_time": "2024-06-19T20:36:24.949Z"
   },
   {
    "duration": 433,
    "start_time": "2024-06-19T20:37:42.560Z"
   },
   {
    "duration": 1011,
    "start_time": "2024-06-19T20:37:42.997Z"
   },
   {
    "duration": 1063,
    "start_time": "2024-06-19T20:37:44.011Z"
   },
   {
    "duration": 40,
    "start_time": "2024-06-19T20:37:45.565Z"
   },
   {
    "duration": 26,
    "start_time": "2024-06-19T20:37:46.333Z"
   },
   {
    "duration": 240,
    "start_time": "2024-06-19T20:37:47.307Z"
   },
   {
    "duration": 5,
    "start_time": "2024-06-19T20:41:32.637Z"
   },
   {
    "duration": 934,
    "start_time": "2024-06-19T20:41:33.209Z"
   },
   {
    "duration": 40,
    "start_time": "2024-06-19T20:41:34.146Z"
   },
   {
    "duration": 21,
    "start_time": "2024-06-19T20:41:34.388Z"
   },
   {
    "duration": 232,
    "start_time": "2024-06-19T20:41:34.959Z"
   },
   {
    "duration": 4,
    "start_time": "2024-06-19T20:41:37.468Z"
   },
   {
    "duration": 142,
    "start_time": "2024-06-19T20:41:38.721Z"
   },
   {
    "duration": 3,
    "start_time": "2024-06-19T20:41:40.005Z"
   },
   {
    "duration": 4,
    "start_time": "2024-06-19T20:41:40.703Z"
   },
   {
    "duration": 114290,
    "start_time": "2024-06-19T20:41:41.443Z"
   },
   {
    "duration": 22,
    "start_time": "2024-06-19T20:43:35.737Z"
   },
   {
    "duration": 4,
    "start_time": "2024-06-19T20:43:35.762Z"
   },
   {
    "duration": 51,
    "start_time": "2024-06-19T20:43:35.771Z"
   },
   {
    "duration": 24,
    "start_time": "2024-06-19T20:43:35.825Z"
   },
   {
    "duration": 10,
    "start_time": "2024-06-19T20:43:35.852Z"
   },
   {
    "duration": 3903,
    "start_time": "2024-06-19T20:43:35.866Z"
   },
   {
    "duration": 14,
    "start_time": "2024-06-19T20:43:39.772Z"
   },
   {
    "duration": 188,
    "start_time": "2024-06-19T20:43:39.789Z"
   },
   {
    "duration": 38,
    "start_time": "2024-06-19T20:43:39.983Z"
   },
   {
    "duration": 10,
    "start_time": "2024-06-19T20:43:40.023Z"
   },
   {
    "duration": 489,
    "start_time": "2024-06-19T20:43:40.035Z"
   },
   {
    "duration": 8,
    "start_time": "2024-06-19T20:43:40.526Z"
   },
   {
    "duration": 3,
    "start_time": "2024-06-19T20:43:40.538Z"
   },
   {
    "duration": 5,
    "start_time": "2024-06-19T20:43:40.544Z"
   },
   {
    "duration": 8556,
    "start_time": "2024-06-19T20:43:40.551Z"
   },
   {
    "duration": 5,
    "start_time": "2024-06-19T20:43:49.113Z"
   },
   {
    "duration": 4,
    "start_time": "2024-06-19T20:43:51.267Z"
   },
   {
    "duration": 4,
    "start_time": "2024-06-19T20:43:51.274Z"
   },
   {
    "duration": 1619,
    "start_time": "2024-06-19T20:43:51.314Z"
   },
   {
    "duration": 83,
    "start_time": "2024-06-19T20:43:52.935Z"
   },
   {
    "duration": 115,
    "start_time": "2024-06-19T20:43:53.025Z"
   },
   {
    "duration": 14,
    "start_time": "2024-06-19T20:43:53.143Z"
   },
   {
    "duration": 487,
    "start_time": "2024-06-20T07:39:13.025Z"
   },
   {
    "duration": 999,
    "start_time": "2024-06-20T07:39:13.517Z"
   },
   {
    "duration": 1574,
    "start_time": "2024-06-20T07:39:14.519Z"
   },
   {
    "duration": 42,
    "start_time": "2024-06-20T07:39:16.096Z"
   },
   {
    "duration": 29,
    "start_time": "2024-06-20T07:39:16.143Z"
   },
   {
    "duration": 270,
    "start_time": "2024-06-20T07:39:16.175Z"
   },
   {
    "duration": 5,
    "start_time": "2024-06-20T07:39:16.448Z"
   },
   {
    "duration": 175,
    "start_time": "2024-06-20T07:39:16.457Z"
   },
   {
    "duration": 5,
    "start_time": "2024-06-20T07:39:16.636Z"
   },
   {
    "duration": 8,
    "start_time": "2024-06-20T07:39:16.644Z"
   },
   {
    "duration": 117708,
    "start_time": "2024-06-20T07:39:16.656Z"
   },
   {
    "duration": 23,
    "start_time": "2024-06-20T07:41:14.369Z"
   },
   {
    "duration": 27,
    "start_time": "2024-06-20T07:41:14.396Z"
   },
   {
    "duration": 21,
    "start_time": "2024-06-20T07:41:14.430Z"
   },
   {
    "duration": 23,
    "start_time": "2024-06-20T07:41:14.455Z"
   },
   {
    "duration": 43,
    "start_time": "2024-06-20T07:41:14.481Z"
   },
   {
    "duration": 4128,
    "start_time": "2024-06-20T07:41:14.528Z"
   },
   {
    "duration": 9,
    "start_time": "2024-06-20T07:41:18.659Z"
   },
   {
    "duration": 189,
    "start_time": "2024-06-20T07:41:18.671Z"
   },
   {
    "duration": 26,
    "start_time": "2024-06-20T07:41:18.865Z"
   },
   {
    "duration": 28,
    "start_time": "2024-06-20T07:41:18.894Z"
   },
   {
    "duration": 498,
    "start_time": "2024-06-20T07:41:18.925Z"
   },
   {
    "duration": 4,
    "start_time": "2024-06-20T07:41:19.426Z"
   },
   {
    "duration": 4,
    "start_time": "2024-06-20T07:41:19.433Z"
   },
   {
    "duration": 5,
    "start_time": "2024-06-20T07:41:19.441Z"
   },
   {
    "duration": 8833,
    "start_time": "2024-06-20T07:41:19.449Z"
   },
   {
    "duration": 13,
    "start_time": "2024-06-20T07:41:28.285Z"
   },
   {
    "duration": 9,
    "start_time": "2024-06-20T07:41:28.301Z"
   },
   {
    "duration": 4,
    "start_time": "2024-06-20T07:41:28.314Z"
   },
   {
    "duration": 1611,
    "start_time": "2024-06-20T07:41:28.323Z"
   },
   {
    "duration": 85,
    "start_time": "2024-06-20T07:41:29.939Z"
   },
   {
    "duration": 44,
    "start_time": "2024-06-20T07:41:30.027Z"
   },
   {
    "duration": 15,
    "start_time": "2024-06-20T07:41:30.074Z"
   },
   {
    "duration": 1654138,
    "start_time": "2024-06-20T07:41:30.092Z"
   },
   {
    "duration": 0,
    "start_time": "2024-06-20T08:09:04.233Z"
   },
   {
    "duration": 0,
    "start_time": "2024-06-20T08:09:04.234Z"
   },
   {
    "duration": 0,
    "start_time": "2024-06-20T08:09:04.236Z"
   },
   {
    "duration": 0,
    "start_time": "2024-06-20T08:09:04.240Z"
   }
  ],
  "kernelspec": {
   "display_name": "Python 3 (ipykernel)",
   "language": "python",
   "name": "python3"
  },
  "language_info": {
   "codemirror_mode": {
    "name": "ipython",
    "version": 3
   },
   "file_extension": ".py",
   "mimetype": "text/x-python",
   "name": "python",
   "nbconvert_exporter": "python",
   "pygments_lexer": "ipython3",
   "version": "3.11.7"
  },
  "toc": {
   "base_numbering": 1,
   "nav_menu": {},
   "number_sections": true,
   "sideBar": true,
   "skip_h1_title": true,
   "title_cell": "Table of Contents",
   "title_sidebar": "Contents",
   "toc_cell": false,
   "toc_position": {
    "height": "calc(100% - 180px)",
    "left": "10px",
    "top": "150px",
    "width": "218.6px"
   },
   "toc_section_display": true,
   "toc_window_display": true
  }
 },
 "nbformat": 4,
 "nbformat_minor": 5
}
